{
 "cells": [
  {
   "cell_type": "code",
   "execution_count": null,
   "metadata": {},
   "outputs": [],
   "source": [
    "import numpy as np \n",
    "from scipy.sparse import random \n",
    "from sklearn.decomposition import TruncatedSVD \n",
    "import matplotlib.pyplot as plt \n",
    "\n",
    "# 1000개의 단어가 포함된 100개의 문서를 생성\n",
    "vocab_size = 10000\n",
    "num_docs = 100 \n",
    "doc_len = 1000 \n",
    "\n",
    "# 10000개의 단어로 구성된 어휘 집합을 생성\n",
    "vocab = [f'word{i}' for i in range(vocab_size)] \n",
    "\n",
    "# 각각의 문서에 대한 밀집 벡터를 랜덤하게 생성\n",
    "dense_vectors = np.zeros((num_docs, vocab_size)) \n",
    "for i in range(num_docs): \n",
    "    word_indices = np.random.choice(vocab_size, doc_len) \n",
    "    for j in word_indices: \n",
    "        dense_vectors[i, j] += 1 \n",
    "\n",
    "# 밀집벡터를 희소벡터로 변환\n",
    "sparse_vectors = random(num_docs, vocab_size, density=0.01, format='csr') \n",
    "for i in range(num_docs): \n",
    "    word_indices = np.random.choice(vocab_size, doc_len) \n",
    "    for j in word_indices: \n",
    "        sparse_vectors[i, j] += 1 \n",
    "\n",
    "# TruncatedSVD를 사용하여 밀집벡터의 차원을 축소\n",
    "svd = TruncatedSVD(n_components=2) \n",
    "dense_vectors_svd = svd.fit_transform(dense_vectors) \n",
    "\n",
    "# TruncatedSVD를 희소벡터에 적용\n",
    "sparse_vectors_svd = svd.transform(sparse_vectors)\n",
    "\n",
    "# 각각의 차원 축소 결과를 산점도 표시\n",
    "fig, ax = plt.subplots(figsize=(10, 8)) \n",
    "ax.scatter(dense_vectors_svd[:, 0], dense_vectors_svd[:, 1], c='b', label='Dense vectors') \n",
    "ax.scatter(sparse_vectors_svd[:, 0], sparse_vectors_svd[:, 1], c='r', label='Sparse vectors') \n",
    "ax.set_title('2D embeddings of dense and sparse document vectors after TruncatedSVD dimensionality reduction')\n",
    "ax.set_xlabel('Dimension 1') \n",
    "ax.set_ylabel('Dimension 2') \n",
    "ax.legend() \n",
    "plt.show()\n"
   ]
  }
 ],
 "metadata": {
  "language_info": {
   "name": "python"
  },
  "orig_nbformat": 4
 },
 "nbformat": 4,
 "nbformat_minor": 2
}
