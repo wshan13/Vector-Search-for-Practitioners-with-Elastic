{
 "cells": [
  {
   "cell_type": "code",
   "execution_count": null,
   "metadata": {
    "pycharm": {
     "is_executing": true
    }
   },
   "outputs": [],
   "source": [
    "!pip install transformers elasticsearch\n",
    "\n",
    "import numpy as np\n",
    "from transformers import AutoTokenizer, AutoModel\n",
    "from elasticsearch import Elasticsearch\n",
    "import torch\n",
    "\n",
    "# 인증정보를 사용해 일래스틱서치 접속 정보 정의\n",
    "es = Elasticsearch(\n",
    "    ['https://hostname:port'],\n",
    "    http_auth=('username', 'password'),\n",
    "    verify_certs=False\n",
    ")\n",
    "\n",
    "# dense vector 필드를 위한 매핑 정의\n",
    "mapping = {\n",
    "    'properties': {\n",
    "        'embedding': {\n",
    "            'type': 'dense_vector',\n",
    "            'dims': 768   # dense vector의 차원수\n",
    "        }\n",
    "    }\n",
    "}\n",
    "\n",
    "# 정의한 매핑으로 인덱스 생성\n",
    "es.indices.create(index='chapter-2', body={'mappings': mapping})\n",
    "\n",
    "# 색인 할 문서 데이터 세트 구성\n",
    "docs = [\n",
    "    {\n",
    "        'title': 'Document 1',\n",
    "        'text': 'This is the first document.'\n",
    "    },\n",
    "    {\n",
    "        'title': 'Document 2',\n",
    "        'text': 'This is the second document.'\n",
    "    },\n",
    "    {\n",
    "        'title': 'Document 3',\n",
    "        'text': 'This is the third document.'\n",
    "    }\n",
    "]\n",
    "\n",
    "# BERT 토크나이저와 모델 로드\n",
    "tokenizer = AutoTokenizer.from_pretrained('bert-base-uncased')\n",
    "model = AutoModel.from_pretrained('bert-base-uncased')\n",
    "\n",
    "# BERT를 활용하여 각 문서의 임베딩 생성\n",
    "for doc in docs:\n",
    "    text = doc['text']\n",
    "    inputs = tokenizer(text, return_tensors='pt', padding=True, truncation=True)\n",
    "    with torch.no_grad():\n",
    "        output = model(**inputs).last_hidden_state.mean(dim=1).squeeze(0).numpy()\n",
    "    doc['embedding'] = output.tolist()\n",
    "\n",
    "# 일래스틱서치에 문서 색인\n",
    "for doc in docs:\n",
    "    es.index(index='chapter-2', body=doc)\n"
   ]
  }
 ],
 "metadata": {
  "language_info": {
   "name": "python"
  },
  "orig_nbformat": 4
 },
 "nbformat": 4,
 "nbformat_minor": 2
}
