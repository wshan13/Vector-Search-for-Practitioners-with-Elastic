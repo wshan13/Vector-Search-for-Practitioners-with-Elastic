{
 "cells": [
  {
   "cell_type": "code",
   "execution_count": 2,
   "metadata": {
    "id": "uA0d_STPW7za"
   },
   "outputs": [
    {
     "name": "stdout",
     "output_type": "stream",
     "text": [
      "Collecting datasets\n",
      "  Downloading datasets-2.18.0-py3-none-any.whl (510 kB)\n",
      "\u001b[K     |████████████████████████████████| 510 kB 10.1 MB/s eta 0:00:01\n",
      "\u001b[?25hRequirement already satisfied: transformers in /home/ubuntu/book/6/my/lib/python3.8/site-packages (4.37.2)\n",
      "Requirement already satisfied: pandas in /home/ubuntu/book/6/my/lib/python3.8/site-packages (from datasets) (1.5.3)\n",
      "Requirement already satisfied: filelock in /home/ubuntu/book/6/my/lib/python3.8/site-packages (from datasets) (3.13.1)\n",
      "Collecting xxhash\n",
      "  Downloading xxhash-3.4.1-cp38-cp38-manylinux_2_17_x86_64.manylinux2014_x86_64.whl (194 kB)\n",
      "\u001b[K     |████████████████████████████████| 194 kB 95.6 MB/s eta 0:00:01\n",
      "\u001b[?25hCollecting dill<0.3.9,>=0.3.0\n",
      "  Downloading dill-0.3.8-py3-none-any.whl (116 kB)\n",
      "\u001b[K     |████████████████████████████████| 116 kB 79.4 MB/s eta 0:00:01\n",
      "\u001b[?25hRequirement already satisfied: packaging in /home/ubuntu/book/6/my/lib/python3.8/site-packages (from datasets) (23.2)\n",
      "Requirement already satisfied: tqdm>=4.62.1 in /home/ubuntu/book/6/my/lib/python3.8/site-packages (from datasets) (4.66.1)\n",
      "Collecting multiprocess\n",
      "  Downloading multiprocess-0.70.16-py38-none-any.whl (132 kB)\n",
      "\u001b[K     |████████████████████████████████| 132 kB 79.9 MB/s eta 0:00:01\n",
      "\u001b[?25hCollecting aiohttp\n",
      "  Downloading aiohttp-3.9.3-cp38-cp38-manylinux_2_17_x86_64.manylinux2014_x86_64.whl (1.3 MB)\n",
      "\u001b[K     |████████████████████████████████| 1.3 MB 69.7 MB/s eta 0:00:01\n",
      "\u001b[?25hRequirement already satisfied: huggingface-hub>=0.19.4 in /home/ubuntu/book/6/my/lib/python3.8/site-packages (from datasets) (0.20.3)\n",
      "Requirement already satisfied: fsspec[http]<=2024.2.0,>=2023.1.0 in /home/ubuntu/book/6/my/lib/python3.8/site-packages (from datasets) (2023.12.2)\n",
      "Requirement already satisfied: numpy>=1.17 in /home/ubuntu/book/6/my/lib/python3.8/site-packages (from datasets) (1.24.4)\n",
      "Collecting pyarrow>=12.0.0\n",
      "  Downloading pyarrow-15.0.2-cp38-cp38-manylinux_2_17_x86_64.manylinux2014_x86_64.whl (38.5 MB)\n",
      "\u001b[K     |████████████████████████████████| 38.5 MB 80.0 MB/s eta 0:00:01\n",
      "\u001b[?25hRequirement already satisfied: pyyaml>=5.1 in /home/ubuntu/book/6/my/lib/python3.8/site-packages (from datasets) (6.0.1)\n",
      "Requirement already satisfied: requests>=2.19.0 in /home/ubuntu/book/6/my/lib/python3.8/site-packages (from datasets) (2.31.0)\n",
      "Collecting pyarrow-hotfix\n",
      "  Downloading pyarrow_hotfix-0.6-py3-none-any.whl (7.9 kB)\n",
      "Requirement already satisfied: regex!=2019.12.17 in /home/ubuntu/book/6/my/lib/python3.8/site-packages (from transformers) (2023.12.25)\n",
      "Requirement already satisfied: safetensors>=0.4.1 in /home/ubuntu/book/6/my/lib/python3.8/site-packages (from transformers) (0.4.2)\n",
      "Requirement already satisfied: tokenizers<0.19,>=0.14 in /home/ubuntu/book/6/my/lib/python3.8/site-packages (from transformers) (0.15.1)\n",
      "Requirement already satisfied: python-dateutil>=2.8.1 in /home/ubuntu/book/6/my/lib/python3.8/site-packages (from pandas->datasets) (2.8.2)\n",
      "Requirement already satisfied: pytz>=2020.1 in /home/ubuntu/book/6/my/lib/python3.8/site-packages (from pandas->datasets) (2024.1)\n",
      "Collecting multidict<7.0,>=4.5\n",
      "  Downloading multidict-6.0.5-cp38-cp38-manylinux_2_17_x86_64.manylinux2014_x86_64.whl (129 kB)\n",
      "\u001b[K     |████████████████████████████████| 129 kB 72.0 MB/s eta 0:00:01\n",
      "\u001b[?25hCollecting yarl<2.0,>=1.0\n",
      "  Downloading yarl-1.9.4-cp38-cp38-manylinux_2_17_x86_64.manylinux2014_x86_64.whl (308 kB)\n",
      "\u001b[K     |████████████████████████████████| 308 kB 70.8 MB/s eta 0:00:01\n",
      "\u001b[?25hCollecting aiosignal>=1.1.2\n",
      "  Downloading aiosignal-1.3.1-py3-none-any.whl (7.6 kB)\n",
      "Collecting frozenlist>=1.1.1\n",
      "  Downloading frozenlist-1.4.1-cp38-cp38-manylinux_2_5_x86_64.manylinux1_x86_64.manylinux_2_17_x86_64.manylinux2014_x86_64.whl (240 kB)\n",
      "\u001b[K     |████████████████████████████████| 240 kB 95.1 MB/s eta 0:00:01\n",
      "\u001b[?25hCollecting async-timeout<5.0,>=4.0; python_version < \"3.11\"\n",
      "  Downloading async_timeout-4.0.3-py3-none-any.whl (5.7 kB)\n",
      "Requirement already satisfied: attrs>=17.3.0 in /home/ubuntu/book/6/my/lib/python3.8/site-packages (from aiohttp->datasets) (23.2.0)\n",
      "Requirement already satisfied: typing-extensions>=3.7.4.3 in /home/ubuntu/book/6/my/lib/python3.8/site-packages (from huggingface-hub>=0.19.4->datasets) (4.9.0)\n",
      "Requirement already satisfied: certifi>=2017.4.17 in /home/ubuntu/book/6/my/lib/python3.8/site-packages (from requests>=2.19.0->datasets) (2024.2.2)\n",
      "Requirement already satisfied: urllib3<3,>=1.21.1 in /home/ubuntu/book/6/my/lib/python3.8/site-packages (from requests>=2.19.0->datasets) (2.2.0)\n",
      "Requirement already satisfied: charset-normalizer<4,>=2 in /home/ubuntu/book/6/my/lib/python3.8/site-packages (from requests>=2.19.0->datasets) (3.3.2)\n",
      "Requirement already satisfied: idna<4,>=2.5 in /home/ubuntu/book/6/my/lib/python3.8/site-packages (from requests>=2.19.0->datasets) (3.6)\n",
      "Requirement already satisfied: six>=1.5 in /home/ubuntu/book/6/my/lib/python3.8/site-packages (from python-dateutil>=2.8.1->pandas->datasets) (1.16.0)\n",
      "Installing collected packages: xxhash, dill, multiprocess, multidict, yarl, frozenlist, aiosignal, async-timeout, aiohttp, pyarrow, pyarrow-hotfix, datasets\n",
      "Successfully installed aiohttp-3.9.3 aiosignal-1.3.1 async-timeout-4.0.3 datasets-2.18.0 dill-0.3.8 frozenlist-1.4.1 multidict-6.0.5 multiprocess-0.70.16 pyarrow-15.0.2 pyarrow-hotfix-0.6 xxhash-3.4.1 yarl-1.9.4\n"
     ]
    }
   ],
   "source": [
    "!pip install datasets transformers"
   ]
  },
  {
   "cell_type": "markdown",
   "metadata": {
    "id": "8Ud4E6TlXFXP"
   },
   "source": [
    "# IMDB 데이터 세트 불러오기"
   ]
  },
  {
   "cell_type": "code",
   "execution_count": 3,
   "metadata": {
    "id": "GpXxbN_bXBfo"
   },
   "outputs": [
    {
     "data": {
      "application/vnd.jupyter.widget-view+json": {
       "model_id": "0f48ef1445be484dbaa7474dc7f368d9",
       "version_major": 2,
       "version_minor": 0
      },
      "text/plain": [
       "Downloading readme:   0%|          | 0.00/7.81k [00:00<?, ?B/s]"
      ]
     },
     "metadata": {},
     "output_type": "display_data"
    },
    {
     "data": {
      "application/vnd.jupyter.widget-view+json": {
       "model_id": "0aa4d4a222444fad859e0ea881d0a6e4",
       "version_major": 2,
       "version_minor": 0
      },
      "text/plain": [
       "Downloading data:   0%|          | 0.00/21.0M [00:00<?, ?B/s]"
      ]
     },
     "metadata": {},
     "output_type": "display_data"
    },
    {
     "data": {
      "application/vnd.jupyter.widget-view+json": {
       "model_id": "37106e8f0d0b47869238fa813bc6e907",
       "version_major": 2,
       "version_minor": 0
      },
      "text/plain": [
       "Downloading data:   0%|          | 0.00/20.5M [00:00<?, ?B/s]"
      ]
     },
     "metadata": {},
     "output_type": "display_data"
    },
    {
     "data": {
      "application/vnd.jupyter.widget-view+json": {
       "model_id": "87fa1683c33046fb8c283c3d1c20e060",
       "version_major": 2,
       "version_minor": 0
      },
      "text/plain": [
       "Downloading data:   0%|          | 0.00/42.0M [00:00<?, ?B/s]"
      ]
     },
     "metadata": {},
     "output_type": "display_data"
    },
    {
     "data": {
      "application/vnd.jupyter.widget-view+json": {
       "model_id": "d5601fe9fef446be8798c68c68c55988",
       "version_major": 2,
       "version_minor": 0
      },
      "text/plain": [
       "Generating train split:   0%|          | 0/25000 [00:00<?, ? examples/s]"
      ]
     },
     "metadata": {},
     "output_type": "display_data"
    },
    {
     "data": {
      "application/vnd.jupyter.widget-view+json": {
       "model_id": "9b1fad0e5435473ca4afb0222ef99451",
       "version_major": 2,
       "version_minor": 0
      },
      "text/plain": [
       "Generating test split:   0%|          | 0/25000 [00:00<?, ? examples/s]"
      ]
     },
     "metadata": {},
     "output_type": "display_data"
    },
    {
     "data": {
      "application/vnd.jupyter.widget-view+json": {
       "model_id": "d315ecf21e6743aaac5c59a532eb8a4f",
       "version_major": 2,
       "version_minor": 0
      },
      "text/plain": [
       "Generating unsupervised split:   0%|          | 0/50000 [00:00<?, ? examples/s]"
      ]
     },
     "metadata": {},
     "output_type": "display_data"
    }
   ],
   "source": [
    "from datasets import load_dataset\n",
    "imdb_dataset = load_dataset(\"imdb\")"
   ]
  },
  {
   "cell_type": "markdown",
   "metadata": {
    "id": "VCFJODgdXW33"
   },
   "source": [
    "# imdb 데이터 세트 토큰화"
   ]
  },
  {
   "cell_type": "code",
   "execution_count": 5,
   "metadata": {
    "id": "uFW5jLzJXe6d"
   },
   "outputs": [
    {
     "name": "stdout",
     "output_type": "stream",
     "text": [
      "Dataset({\n",
      "    features: ['text', 'label', 'input_ids', 'token_type_ids', 'attention_mask'],\n",
      "    num_rows: 100\n",
      "})\n",
      "토큰: 101, 단어: [CLS]\n",
      "토큰: 1045, 단어: i\n",
      "토큰: 12524, 단어: rented\n",
      "토큰: 1045, 단어: i\n",
      "토큰: 2572, 단어: am\n",
      "토큰: 8025, 단어: curious\n",
      "토큰: 1011, 단어: -\n",
      "토큰: 3756, 단어: yellow\n",
      "토큰: 2013, 단어: from\n",
      "토큰: 2026, 단어: my\n"
     ]
    }
   ],
   "source": [
    "from datasets import load_dataset\n",
    "from transformers import AutoTokenizer\n",
    "\n",
    "# IMDB 데이터 세트셋 일부(샘플 100개) 로드적재\n",
    "imdb_dataset = load_dataset(\"imdb\", split=\"train[:100]\")\n",
    "\n",
    "# 토크나이저 초기화\n",
    "tokenizer = AutoTokenizer.from_pretrained(\"bert-base-uncased\")\n",
    "\n",
    "# 자르기와 패딩을 사용하여해 IMDB 데이터셋 데이터 세트 토큰화\n",
    "tokenized_imdb_dataset = imdb_dataset.map(\n",
    "lambda x: tokenizer(x[\"text\"], truncation=True, padding=\"max_length\")\n",
    ")\n",
    "\n",
    "print(tokenized_imdb_dataset)\n",
    "\n",
    "# 토큰의 첫 번째 행 가져오기\n",
    "first_row_tokens = tokenized_imdb_dataset[0][\"input_ids\"]\n",
    "\n",
    "# 처음 10개의  토큰과 토큰에 해당하는 단어를 출력합니다.\n",
    "for token in first_row_tokens[:10]:\n",
    "  print(f\"토큰: {token}, 단어: {tokenizer.decode([token])}\")"
   ]
  },
  {
   "cell_type": "markdown",
   "metadata": {
    "id": "4sEIuAX1Y12I"
   },
   "source": [
    "# Spaces 예제 코드e\n",
    "Gradio 인터페이스 설정"
   ]
  },
  {
   "cell_type": "code",
   "execution_count": 6,
   "metadata": {
    "id": "6b9qSiukY9kK"
   },
   "outputs": [
    {
     "name": "stderr",
     "output_type": "stream",
     "text": [
      "huggingface/tokenizers: The current process just got forked, after parallelism has already been used. Disabling parallelism to avoid deadlocks...\n",
      "To disable this warning, you can either:\n",
      "\t- Avoid using `tokenizers` before the fork if possible\n",
      "\t- Explicitly set the environment variable TOKENIZERS_PARALLELISM=(true | false)\n"
     ]
    },
    {
     "name": "stdout",
     "output_type": "stream",
     "text": [
      "Collecting gradio\n",
      "  Downloading gradio-4.25.0-py3-none-any.whl (17.1 MB)\n",
      "\u001b[K     |████████████████████████████████| 17.1 MB 11.7 MB/s eta 0:00:01\n",
      "\u001b[?25hRequirement already satisfied: transformers in /home/ubuntu/book/6/my/lib/python3.8/site-packages (4.37.2)\n",
      "Collecting ffmpy\n",
      "  Downloading ffmpy-0.3.2.tar.gz (5.5 kB)\n",
      "Requirement already satisfied: packaging in /home/ubuntu/book/6/my/lib/python3.8/site-packages (from gradio) (23.2)\n",
      "Requirement already satisfied: importlib-resources<7.0,>=1.3 in /home/ubuntu/book/6/my/lib/python3.8/site-packages (from gradio) (6.1.1)\n",
      "Requirement already satisfied: pillow<11.0,>=8.0 in /home/ubuntu/book/6/my/lib/python3.8/site-packages (from gradio) (10.2.0)\n",
      "Collecting orjson~=3.0\n",
      "  Downloading orjson-3.10.0-cp38-cp38-manylinux_2_17_x86_64.manylinux2014_x86_64.whl (144 kB)\n",
      "\u001b[K     |████████████████████████████████| 144 kB 73.5 MB/s eta 0:00:01\n",
      "\u001b[?25hCollecting semantic-version~=2.0\n",
      "  Downloading semantic_version-2.10.0-py2.py3-none-any.whl (15 kB)\n",
      "Collecting gradio-client==0.15.0\n",
      "  Downloading gradio_client-0.15.0-py3-none-any.whl (313 kB)\n",
      "\u001b[K     |████████████████████████████████| 313 kB 3.1 MB/s eta 0:00:01\n",
      "\u001b[?25hCollecting python-multipart>=0.0.9\n",
      "  Downloading python_multipart-0.0.9-py3-none-any.whl (22 kB)\n",
      "Collecting typer[all]<1.0,>=0.9; sys_platform != \"emscripten\"\n",
      "  Downloading typer-0.12.1-py3-none-any.whl (46 kB)\n",
      "\u001b[K     |████████████████████████████████| 46 kB 5.9 MB/s  eta 0:00:01\n",
      "\u001b[33m  WARNING: typer 0.12.1 does not provide the extra 'all'\u001b[0m\n",
      "\u001b[?25hCollecting uvicorn>=0.14.0; sys_platform != \"emscripten\"\n",
      "  Downloading uvicorn-0.29.0-py3-none-any.whl (60 kB)\n",
      "\u001b[K     |████████████████████████████████| 60 kB 9.9 MB/s  eta 0:00:01\n",
      "\u001b[?25hRequirement already satisfied: huggingface-hub>=0.19.3 in /home/ubuntu/book/6/my/lib/python3.8/site-packages (from gradio) (0.20.3)\n",
      "Requirement already satisfied: typing-extensions~=4.0 in /home/ubuntu/book/6/my/lib/python3.8/site-packages (from gradio) (4.9.0)\n",
      "Collecting tomlkit==0.12.0\n",
      "  Downloading tomlkit-0.12.0-py3-none-any.whl (37 kB)\n",
      "Requirement already satisfied: httpx>=0.24.1 in /home/ubuntu/book/6/my/lib/python3.8/site-packages (from gradio) (0.27.0)\n",
      "Collecting pydantic>=2.0\n",
      "  Downloading pydantic-2.6.4-py3-none-any.whl (394 kB)\n",
      "\u001b[K     |████████████████████████████████| 394 kB 65.9 MB/s eta 0:00:01\n",
      "\u001b[?25hCollecting altair<6.0,>=4.2.0\n",
      "  Downloading altair-5.3.0-py3-none-any.whl (857 kB)\n",
      "\u001b[K     |████████████████████████████████| 857 kB 87.0 MB/s eta 0:00:01\n",
      "\u001b[?25hCollecting ruff>=0.2.2; sys_platform != \"emscripten\"\n",
      "  Downloading ruff-0.3.5-py3-none-manylinux_2_17_x86_64.manylinux2014_x86_64.whl (8.7 MB)\n",
      "\u001b[K     |████████████████████████████████| 8.7 MB 13.4 MB/s eta 0:00:01\n",
      "\u001b[?25hRequirement already satisfied: jinja2<4.0 in /home/ubuntu/book/6/my/lib/python3.8/site-packages (from gradio) (3.1.3)\n",
      "Requirement already satisfied: matplotlib~=3.0 in /home/ubuntu/book/6/my/lib/python3.8/site-packages (from gradio) (3.7.4)\n",
      "Requirement already satisfied: pandas<3.0,>=1.0 in /home/ubuntu/book/6/my/lib/python3.8/site-packages (from gradio) (1.5.3)\n",
      "Collecting aiofiles<24.0,>=22.0\n",
      "  Downloading aiofiles-23.2.1-py3-none-any.whl (15 kB)\n",
      "Requirement already satisfied: numpy~=1.0 in /home/ubuntu/book/6/my/lib/python3.8/site-packages (from gradio) (1.24.4)\n",
      "Collecting pydub\n",
      "  Downloading pydub-0.25.1-py2.py3-none-any.whl (32 kB)\n",
      "Requirement already satisfied: markupsafe~=2.0 in /home/ubuntu/book/6/my/lib/python3.8/site-packages (from gradio) (2.1.5)\n",
      "Requirement already satisfied: pyyaml<7.0,>=5.0 in /home/ubuntu/book/6/my/lib/python3.8/site-packages (from gradio) (6.0.1)\n",
      "Collecting fastapi\n",
      "  Downloading fastapi-0.110.1-py3-none-any.whl (91 kB)\n",
      "\u001b[K     |████████████████████████████████| 91 kB 16.8 MB/s eta 0:00:01\n",
      "\u001b[?25hRequirement already satisfied: tqdm>=4.27 in /home/ubuntu/book/6/my/lib/python3.8/site-packages (from transformers) (4.66.1)\n",
      "Requirement already satisfied: requests in /home/ubuntu/book/6/my/lib/python3.8/site-packages (from transformers) (2.31.0)\n",
      "Requirement already satisfied: tokenizers<0.19,>=0.14 in /home/ubuntu/book/6/my/lib/python3.8/site-packages (from transformers) (0.15.1)\n",
      "Requirement already satisfied: filelock in /home/ubuntu/book/6/my/lib/python3.8/site-packages (from transformers) (3.13.1)\n",
      "Requirement already satisfied: regex!=2019.12.17 in /home/ubuntu/book/6/my/lib/python3.8/site-packages (from transformers) (2023.12.25)\n",
      "Requirement already satisfied: safetensors>=0.4.1 in /home/ubuntu/book/6/my/lib/python3.8/site-packages (from transformers) (0.4.2)\n",
      "Requirement already satisfied: zipp>=3.1.0; python_version < \"3.10\" in /home/ubuntu/book/6/my/lib/python3.8/site-packages (from importlib-resources<7.0,>=1.3->gradio) (3.17.0)\n",
      "Requirement already satisfied: fsspec in /home/ubuntu/book/6/my/lib/python3.8/site-packages (from gradio-client==0.15.0->gradio) (2023.12.2)\n",
      "Collecting websockets<12.0,>=10.0\n",
      "  Downloading websockets-11.0.3-cp38-cp38-manylinux_2_5_x86_64.manylinux1_x86_64.manylinux_2_17_x86_64.manylinux2014_x86_64.whl (130 kB)\n",
      "\u001b[K     |████████████████████████████████| 130 kB 16.9 MB/s eta 0:00:01\n",
      "\u001b[?25hCollecting rich>=10.11.0\n",
      "  Downloading rich-13.7.1-py3-none-any.whl (240 kB)\n",
      "\u001b[K     |████████████████████████████████| 240 kB 73.4 MB/s eta 0:00:01\n",
      "\u001b[?25hRequirement already satisfied: click>=8.0.0 in /home/ubuntu/book/6/my/lib/python3.8/site-packages (from typer[all]<1.0,>=0.9; sys_platform != \"emscripten\"->gradio) (8.1.7)\n",
      "Collecting shellingham>=1.3.0\n",
      "  Downloading shellingham-1.5.4-py2.py3-none-any.whl (9.8 kB)\n",
      "Requirement already satisfied: h11>=0.8 in /home/ubuntu/book/6/my/lib/python3.8/site-packages (from uvicorn>=0.14.0; sys_platform != \"emscripten\"->gradio) (0.14.0)\n",
      "Requirement already satisfied: anyio in /home/ubuntu/book/6/my/lib/python3.8/site-packages (from httpx>=0.24.1->gradio) (4.3.0)\n",
      "Requirement already satisfied: httpcore==1.* in /home/ubuntu/book/6/my/lib/python3.8/site-packages (from httpx>=0.24.1->gradio) (1.0.5)\n",
      "Requirement already satisfied: idna in /home/ubuntu/book/6/my/lib/python3.8/site-packages (from httpx>=0.24.1->gradio) (3.6)\n",
      "Requirement already satisfied: certifi in /home/ubuntu/book/6/my/lib/python3.8/site-packages (from httpx>=0.24.1->gradio) (2024.2.2)\n",
      "Requirement already satisfied: sniffio in /home/ubuntu/book/6/my/lib/python3.8/site-packages (from httpx>=0.24.1->gradio) (1.3.1)\n",
      "Collecting pydantic-core==2.16.3\n",
      "  Downloading pydantic_core-2.16.3-cp38-cp38-manylinux_2_17_x86_64.manylinux2014_x86_64.whl (2.1 MB)\n",
      "\u001b[K     |████████████████████████████████| 2.1 MB 74.5 MB/s eta 0:00:01\n",
      "\u001b[?25hCollecting annotated-types>=0.4.0\n",
      "  Downloading annotated_types-0.6.0-py3-none-any.whl (12 kB)\n",
      "Collecting toolz\n",
      "  Downloading toolz-0.12.1-py3-none-any.whl (56 kB)\n",
      "\u001b[K     |████████████████████████████████| 56 kB 6.2 MB/s  eta 0:00:01\n",
      "\u001b[?25hRequirement already satisfied: jsonschema>=3.0 in /home/ubuntu/book/6/my/lib/python3.8/site-packages (from altair<6.0,>=4.2.0->gradio) (4.21.1)\n",
      "Requirement already satisfied: cycler>=0.10 in /home/ubuntu/book/6/my/lib/python3.8/site-packages (from matplotlib~=3.0->gradio) (0.12.1)\n",
      "Requirement already satisfied: pyparsing>=2.3.1 in /home/ubuntu/book/6/my/lib/python3.8/site-packages (from matplotlib~=3.0->gradio) (3.1.1)\n",
      "Requirement already satisfied: kiwisolver>=1.0.1 in /home/ubuntu/book/6/my/lib/python3.8/site-packages (from matplotlib~=3.0->gradio) (1.4.5)\n",
      "Requirement already satisfied: fonttools>=4.22.0 in /home/ubuntu/book/6/my/lib/python3.8/site-packages (from matplotlib~=3.0->gradio) (4.47.2)\n",
      "Requirement already satisfied: contourpy>=1.0.1 in /home/ubuntu/book/6/my/lib/python3.8/site-packages (from matplotlib~=3.0->gradio) (1.1.1)\n",
      "Requirement already satisfied: python-dateutil>=2.7 in /home/ubuntu/book/6/my/lib/python3.8/site-packages (from matplotlib~=3.0->gradio) (2.8.2)\n",
      "Requirement already satisfied: pytz>=2020.1 in /home/ubuntu/book/6/my/lib/python3.8/site-packages (from pandas<3.0,>=1.0->gradio) (2024.1)\n",
      "Collecting starlette<0.38.0,>=0.37.2\n",
      "  Downloading starlette-0.37.2-py3-none-any.whl (71 kB)\n",
      "\u001b[K     |████████████████████████████████| 71 kB 372 kB/s  eta 0:00:01\n",
      "\u001b[?25hRequirement already satisfied: charset-normalizer<4,>=2 in /home/ubuntu/book/6/my/lib/python3.8/site-packages (from requests->transformers) (3.3.2)\n",
      "Requirement already satisfied: urllib3<3,>=1.21.1 in /home/ubuntu/book/6/my/lib/python3.8/site-packages (from requests->transformers) (2.2.0)\n",
      "Requirement already satisfied: pygments<3.0.0,>=2.13.0 in /home/ubuntu/book/6/my/lib/python3.8/site-packages (from rich>=10.11.0->typer[all]<1.0,>=0.9; sys_platform != \"emscripten\"->gradio) (2.17.2)\n",
      "Collecting markdown-it-py>=2.2.0\n",
      "  Downloading markdown_it_py-3.0.0-py3-none-any.whl (87 kB)\n",
      "\u001b[K     |████████████████████████████████| 87 kB 8.0 MB/s  eta 0:00:01\n",
      "\u001b[?25hRequirement already satisfied: exceptiongroup>=1.0.2; python_version < \"3.11\" in /home/ubuntu/book/6/my/lib/python3.8/site-packages (from anyio->httpx>=0.24.1->gradio) (1.2.0)\n",
      "Requirement already satisfied: referencing>=0.28.4 in /home/ubuntu/book/6/my/lib/python3.8/site-packages (from jsonschema>=3.0->altair<6.0,>=4.2.0->gradio) (0.34.0)\n",
      "Requirement already satisfied: attrs>=22.2.0 in /home/ubuntu/book/6/my/lib/python3.8/site-packages (from jsonschema>=3.0->altair<6.0,>=4.2.0->gradio) (23.2.0)\n",
      "Requirement already satisfied: jsonschema-specifications>=2023.03.6 in /home/ubuntu/book/6/my/lib/python3.8/site-packages (from jsonschema>=3.0->altair<6.0,>=4.2.0->gradio) (2023.12.1)\n",
      "Requirement already satisfied: pkgutil-resolve-name>=1.3.10; python_version < \"3.9\" in /home/ubuntu/book/6/my/lib/python3.8/site-packages (from jsonschema>=3.0->altair<6.0,>=4.2.0->gradio) (1.3.10)\n",
      "Requirement already satisfied: rpds-py>=0.7.1 in /home/ubuntu/book/6/my/lib/python3.8/site-packages (from jsonschema>=3.0->altair<6.0,>=4.2.0->gradio) (0.18.0)\n",
      "Requirement already satisfied: six>=1.5 in /home/ubuntu/book/6/my/lib/python3.8/site-packages (from python-dateutil>=2.7->matplotlib~=3.0->gradio) (1.16.0)\n",
      "Collecting mdurl~=0.1\n",
      "  Downloading mdurl-0.1.2-py3-none-any.whl (10.0 kB)\n",
      "Building wheels for collected packages: ffmpy\n",
      "  Building wheel for ffmpy (setup.py) ... \u001b[?25lerror\n",
      "\u001b[31m  ERROR: Command errored out with exit status 1:\n",
      "   command: /home/ubuntu/book/6/my/bin/python3 -u -c 'import sys, setuptools, tokenize; sys.argv[0] = '\"'\"'/tmp/pip-install-v8u7qd3r/ffmpy/setup.py'\"'\"'; __file__='\"'\"'/tmp/pip-install-v8u7qd3r/ffmpy/setup.py'\"'\"';f=getattr(tokenize, '\"'\"'open'\"'\"', open)(__file__);code=f.read().replace('\"'\"'\\r\\n'\"'\"', '\"'\"'\\n'\"'\"');f.close();exec(compile(code, __file__, '\"'\"'exec'\"'\"'))' bdist_wheel -d /tmp/pip-wheel-3l350pgk\n",
      "       cwd: /tmp/pip-install-v8u7qd3r/ffmpy/\n",
      "  Complete output (6 lines):\n",
      "  usage: setup.py [global_opts] cmd1 [cmd1_opts] [cmd2 [cmd2_opts] ...]\n",
      "     or: setup.py --help [cmd1 cmd2 ...]\n",
      "     or: setup.py --help-commands\n",
      "     or: setup.py cmd --help\n",
      "  \n",
      "  error: invalid command 'bdist_wheel'\n",
      "  ----------------------------------------\u001b[0m\n",
      "\u001b[31m  ERROR: Failed building wheel for ffmpy\u001b[0m\n",
      "\u001b[?25h  Running setup.py clean for ffmpy\n",
      "Failed to build ffmpy\n",
      "Installing collected packages: ffmpy, orjson, semantic-version, websockets, gradio-client, python-multipart, mdurl, markdown-it-py, rich, shellingham, typer, uvicorn, tomlkit, pydantic-core, annotated-types, pydantic, toolz, altair, ruff, aiofiles, pydub, starlette, fastapi, gradio\n",
      "    Running setup.py install for ffmpy ... \u001b[?25ldone\n",
      "\u001b[?25hSuccessfully installed aiofiles-23.2.1 altair-5.3.0 annotated-types-0.6.0 fastapi-0.110.1 ffmpy-0.3.2 gradio-4.25.0 gradio-client-0.15.0 markdown-it-py-3.0.0 mdurl-0.1.2 orjson-3.10.0 pydantic-2.6.4 pydantic-core-2.16.3 pydub-0.25.1 python-multipart-0.0.9 rich-13.7.1 ruff-0.3.5 semantic-version-2.10.0 shellingham-1.5.4 starlette-0.37.2 tomlkit-0.12.0 toolz-0.12.1 typer-0.12.1 uvicorn-0.29.0 websockets-11.0.3\n"
     ]
    }
   ],
   "source": [
    "!pip install gradio transformers"
   ]
  },
  {
   "cell_type": "code",
   "execution_count": 7,
   "metadata": {
    "id": "MEvaRRUpY5tB"
   },
   "outputs": [
    {
     "name": "stderr",
     "output_type": "stream",
     "text": [
      "No model was supplied, defaulted to distilbert-base-uncased-finetuned-sst-2-english and revision af0f99b (https://huggingface.co/distilbert-base-uncased-finetuned-sst-2-english).\n",
      "Using a pipeline without specifying a model name and revision in production is not recommended.\n"
     ]
    },
    {
     "data": {
      "application/vnd.jupyter.widget-view+json": {
       "model_id": "3910b713bcb34f48ab3fe4d61ed913b2",
       "version_major": 2,
       "version_minor": 0
      },
      "text/plain": [
       "config.json:   0%|          | 0.00/629 [00:00<?, ?B/s]"
      ]
     },
     "metadata": {},
     "output_type": "display_data"
    },
    {
     "data": {
      "application/vnd.jupyter.widget-view+json": {
       "model_id": "8adcee5a5cd943839337679ea19766b4",
       "version_major": 2,
       "version_minor": 0
      },
      "text/plain": [
       "model.safetensors:   0%|          | 0.00/268M [00:00<?, ?B/s]"
      ]
     },
     "metadata": {},
     "output_type": "display_data"
    },
    {
     "data": {
      "application/vnd.jupyter.widget-view+json": {
       "model_id": "fb12454da73e445896bd9a0758cfe782",
       "version_major": 2,
       "version_minor": 0
      },
      "text/plain": [
       "tokenizer_config.json:   0%|          | 0.00/48.0 [00:00<?, ?B/s]"
      ]
     },
     "metadata": {},
     "output_type": "display_data"
    },
    {
     "data": {
      "application/vnd.jupyter.widget-view+json": {
       "model_id": "356efa3eae3740ccb61e678b00f85a67",
       "version_major": 2,
       "version_minor": 0
      },
      "text/plain": [
       "vocab.txt:   0%|          | 0.00/232k [00:00<?, ?B/s]"
      ]
     },
     "metadata": {},
     "output_type": "display_data"
    },
    {
     "name": "stdout",
     "output_type": "stream",
     "text": [
      "Running on local URL:  http://127.0.0.1:7860\n",
      "\n",
      "To create a public link, set `share=True` in `launch()`.\n"
     ]
    },
    {
     "data": {
      "text/html": [
       "<div><iframe src=\"http://127.0.0.1:7860/\" width=\"100%\" height=\"500\" allow=\"autoplay; camera; microphone; clipboard-read; clipboard-write;\" frameborder=\"0\" allowfullscreen></iframe></div>"
      ],
      "text/plain": [
       "<IPython.core.display.HTML object>"
      ]
     },
     "metadata": {},
     "output_type": "display_data"
    },
    {
     "data": {
      "text/plain": []
     },
     "execution_count": 7,
     "metadata": {},
     "output_type": "execute_result"
    }
   ],
   "source": [
    "import gradio as gr\n",
    "from transformers import pipeline\n",
    "\n",
    "sentiment_pipeline = pipeline(\"sentiment-analysis\")\n",
    "\n",
    "def sentiment_analysis(text):\n",
    "    result = sentiment_pipeline(text)\n",
    "    return result[0][\"label\"]\n",
    "\n",
    "iface = gr.Interface(fn=sentiment_analysis, inputs=\"text\", outputs=\"text\")\n",
    "iface.launch()"
   ]
  },
  {
   "cell_type": "markdown",
   "metadata": {
    "id": "1821xMLhZRGw"
   },
   "source": [
    "# 일래스틱 Eland"
   ]
  },
  {
   "cell_type": "code",
   "execution_count": 22,
   "metadata": {
    "id": "zeHEK6A-ZbA7"
   },
   "outputs": [
    {
     "name": "stderr",
     "output_type": "stream",
     "text": [
      "huggingface/tokenizers: The current process just got forked, after parallelism has already been used. Disabling parallelism to avoid deadlocks...\n",
      "To disable this warning, you can either:\n",
      "\t- Avoid using `tokenizers` before the fork if possible\n",
      "\t- Explicitly set the environment variable TOKENIZERS_PARALLELISM=(true | false)\n"
     ]
    },
    {
     "name": "stdout",
     "output_type": "stream",
     "text": [
      "Requirement already satisfied: eland in /home/ubuntu/book/6/my/lib/python3.8/site-packages (8.12.1)\n",
      "Requirement already satisfied: elasticsearch in /home/ubuntu/book/6/my/lib/python3.8/site-packages (8.12.0)\n",
      "Collecting seaborn\n",
      "  Downloading seaborn-0.13.2-py3-none-any.whl (294 kB)\n",
      "\u001b[K     |████████████████████████████████| 294 kB 11.8 MB/s eta 0:00:01\n",
      "\u001b[?25hRequirement already satisfied: numpy<2,>=1.2.0 in /home/ubuntu/book/6/my/lib/python3.8/site-packages (from eland) (1.24.4)\n",
      "Requirement already satisfied: pandas<2,>=1.5 in /home/ubuntu/book/6/my/lib/python3.8/site-packages (from eland) (1.5.3)\n",
      "Requirement already satisfied: matplotlib>=3.6 in /home/ubuntu/book/6/my/lib/python3.8/site-packages (from eland) (3.7.4)\n",
      "Requirement already satisfied: packaging in /home/ubuntu/book/6/my/lib/python3.8/site-packages (from eland) (23.2)\n",
      "Requirement already satisfied: elastic-transport<9,>=8 in /home/ubuntu/book/6/my/lib/python3.8/site-packages (from elasticsearch) (8.12.0)\n",
      "Requirement already satisfied: pytz>=2020.1 in /home/ubuntu/book/6/my/lib/python3.8/site-packages (from pandas<2,>=1.5->eland) (2024.1)\n",
      "Requirement already satisfied: python-dateutil>=2.8.1 in /home/ubuntu/book/6/my/lib/python3.8/site-packages (from pandas<2,>=1.5->eland) (2.8.2)\n",
      "Requirement already satisfied: importlib-resources>=3.2.0; python_version < \"3.10\" in /home/ubuntu/book/6/my/lib/python3.8/site-packages (from matplotlib>=3.6->eland) (6.1.1)\n",
      "Requirement already satisfied: pillow>=6.2.0 in /home/ubuntu/book/6/my/lib/python3.8/site-packages (from matplotlib>=3.6->eland) (10.2.0)\n",
      "Requirement already satisfied: fonttools>=4.22.0 in /home/ubuntu/book/6/my/lib/python3.8/site-packages (from matplotlib>=3.6->eland) (4.47.2)\n",
      "Requirement already satisfied: cycler>=0.10 in /home/ubuntu/book/6/my/lib/python3.8/site-packages (from matplotlib>=3.6->eland) (0.12.1)\n",
      "Requirement already satisfied: contourpy>=1.0.1 in /home/ubuntu/book/6/my/lib/python3.8/site-packages (from matplotlib>=3.6->eland) (1.1.1)\n",
      "Requirement already satisfied: kiwisolver>=1.0.1 in /home/ubuntu/book/6/my/lib/python3.8/site-packages (from matplotlib>=3.6->eland) (1.4.5)\n",
      "Requirement already satisfied: pyparsing>=2.3.1 in /home/ubuntu/book/6/my/lib/python3.8/site-packages (from matplotlib>=3.6->eland) (3.1.1)\n",
      "Requirement already satisfied: certifi in /home/ubuntu/book/6/my/lib/python3.8/site-packages (from elastic-transport<9,>=8->elasticsearch) (2024.2.2)\n",
      "Requirement already satisfied: urllib3<3,>=1.26.2 in /home/ubuntu/book/6/my/lib/python3.8/site-packages (from elastic-transport<9,>=8->elasticsearch) (2.2.0)\n",
      "Requirement already satisfied: six>=1.5 in /home/ubuntu/book/6/my/lib/python3.8/site-packages (from python-dateutil>=2.8.1->pandas<2,>=1.5->eland) (1.16.0)\n",
      "Requirement already satisfied: zipp>=3.1.0; python_version < \"3.10\" in /home/ubuntu/book/6/my/lib/python3.8/site-packages (from importlib-resources>=3.2.0; python_version < \"3.10\"->matplotlib>=3.6->eland) (3.17.0)\n",
      "Installing collected packages: seaborn\n",
      "Successfully installed seaborn-0.13.2\n"
     ]
    }
   ],
   "source": [
    "!pip install eland elasticsearch seaborn"
   ]
  },
  {
   "cell_type": "markdown",
   "metadata": {
    "id": "wB_055jlaH2H"
   },
   "source": [
    "# 인덱스 생성 예제"
   ]
  },
  {
   "cell_type": "markdown",
   "metadata": {
    "id": "iLkd_1KWo6ba"
   },
   "source": [
    "## 일래스틱서치에 접속하여 샘플 인덱스 생성"
   ]
  },
  {
   "cell_type": "code",
   "execution_count": 13,
   "metadata": {
    "id": "8vnErFw4o8eh"
   },
   "outputs": [
    {
     "name": "stdin",
     "output_type": "stream",
     "text": [
      "Enter Elastic Cloud ID:   ········\n",
      "Enter cluster API key:   ········\n"
     ]
    },
    {
     "data": {
      "text/plain": [
       "ObjectApiResponse({'name': 'instance-0000000000', 'cluster_name': '858a51ccd3cb4f3784b2cdeeb6a8a790', 'cluster_uuid': 'j66L3Y0_Seyop9NZawv1xw', 'version': {'number': '8.12.2', 'build_flavor': 'default', 'build_type': 'docker', 'build_hash': '48a287ab9497e852de30327444b0809e55d46466', 'build_date': '2024-02-19T10:04:32.774273190Z', 'build_snapshot': False, 'lucene_version': '9.9.2', 'minimum_wire_compatibility_version': '7.17.0', 'minimum_index_compatibility_version': '7.0.0'}, 'tagline': 'You Know, for Search'})"
      ]
     },
     "execution_count": 13,
     "metadata": {},
     "output_type": "execute_result"
    }
   ],
   "source": [
    "import getpass\n",
    "from elasticsearch import Elasticsearch\n",
    "from datetime import datetime\n",
    "\n",
    "es_cloud_id = getpass.getpass('Enter Elastic Cloud ID:  ')\n",
    "es_api_key = getpass.getpass('Enter cluster API key:  ')\n",
    "\n",
    "es = Elasticsearch(cloud_id=es_cloud_id,\n",
    "                   api_key=es_api_key\n",
    "                   )\n",
    "es.info() # 클러스터 정보가 반환돼야 합니다."
   ]
  },
  {
   "cell_type": "code",
   "execution_count": 18,
   "metadata": {},
   "outputs": [
    {
     "ename": "BadRequestError",
     "evalue": "BadRequestError(400, 'resource_already_exists_exception', 'index [sample_eland_index/Bq7dIe3sR6OcXBrGC5Nm8A] already exists')",
     "output_type": "error",
     "traceback": [
      "\u001b[0;31m---------------------------------------------------------------------------\u001b[0m",
      "\u001b[0;31mBadRequestError\u001b[0m                           Traceback (most recent call last)",
      "Cell \u001b[0;32mIn[18], line 18\u001b[0m\n\u001b[1;32m      1\u001b[0m mapping \u001b[38;5;241m=\u001b[39m {\n\u001b[1;32m      2\u001b[0m     \u001b[38;5;124m\"\u001b[39m\u001b[38;5;124msettings\u001b[39m\u001b[38;5;124m\"\u001b[39m: {\n\u001b[1;32m      3\u001b[0m         \u001b[38;5;124m\"\u001b[39m\u001b[38;5;124mnumber_of_shards\u001b[39m\u001b[38;5;124m\"\u001b[39m: \u001b[38;5;241m1\u001b[39m,\n\u001b[0;32m   (...)\u001b[0m\n\u001b[1;32m     14\u001b[0m     }\n\u001b[1;32m     15\u001b[0m }\n\u001b[1;32m     17\u001b[0m \u001b[38;5;66;03m# 인덱스 생성\u001b[39;00m\n\u001b[0;32m---> 18\u001b[0m \u001b[43mes\u001b[49m\u001b[38;5;241;43m.\u001b[39;49m\u001b[43mindices\u001b[49m\u001b[38;5;241;43m.\u001b[39;49m\u001b[43mcreate\u001b[49m\u001b[43m(\u001b[49m\u001b[43mindex\u001b[49m\u001b[38;5;241;43m=\u001b[39;49m\u001b[38;5;124;43m\"\u001b[39;49m\u001b[38;5;124;43msample_eland_index\u001b[39;49m\u001b[38;5;124;43m\"\u001b[39;49m\u001b[43m,\u001b[49m\u001b[43m \u001b[49m\u001b[43mbody\u001b[49m\u001b[38;5;241;43m=\u001b[39;49m\u001b[43mmapping\u001b[49m\u001b[43m)\u001b[49m\n\u001b[1;32m     20\u001b[0m \u001b[38;5;66;03m# 인덱스에 샘플 데이터 넣기\u001b[39;00m\n\u001b[1;32m     21\u001b[0m documents \u001b[38;5;241m=\u001b[39m [\n\u001b[1;32m     22\u001b[0m     {\u001b[38;5;124m\"\u001b[39m\u001b[38;5;124msome_field\u001b[39m\u001b[38;5;124m\"\u001b[39m: \u001b[38;5;241m95.0\u001b[39m, \u001b[38;5;124m\"\u001b[39m\u001b[38;5;124mcolumn_a\u001b[39m\u001b[38;5;124m\"\u001b[39m: \u001b[38;5;241m5.0\u001b[39m, \u001b[38;5;124m\"\u001b[39m\u001b[38;5;124mcolumn_b\u001b[39m\u001b[38;5;124m\"\u001b[39m: \u001b[38;5;241m10.0\u001b[39m, \u001b[38;5;124m\"\u001b[39m\u001b[38;5;124mcategory\u001b[39m\u001b[38;5;124m\"\u001b[39m: \u001b[38;5;124m\"\u001b[39m\u001b[38;5;124mA\u001b[39m\u001b[38;5;124m\"\u001b[39m, \u001b[38;5;124m\"\u001b[39m\u001b[38;5;124mvalue\u001b[39m\u001b[38;5;124m\"\u001b[39m: \u001b[38;5;241m50.0\u001b[39m},\n\u001b[1;32m     23\u001b[0m     {\u001b[38;5;124m\"\u001b[39m\u001b[38;5;124msome_field\u001b[39m\u001b[38;5;124m\"\u001b[39m: \u001b[38;5;241m150.0\u001b[39m, \u001b[38;5;124m\"\u001b[39m\u001b[38;5;124mcolumn_a\u001b[39m\u001b[38;5;124m\"\u001b[39m: \u001b[38;5;241m7.0\u001b[39m, \u001b[38;5;124m\"\u001b[39m\u001b[38;5;124mcolumn_b\u001b[39m\u001b[38;5;124m\"\u001b[39m: \u001b[38;5;241m20.0\u001b[39m, \u001b[38;5;124m\"\u001b[39m\u001b[38;5;124mcategory\u001b[39m\u001b[38;5;124m\"\u001b[39m: \u001b[38;5;124m\"\u001b[39m\u001b[38;5;124mB\u001b[39m\u001b[38;5;124m\"\u001b[39m, \u001b[38;5;124m\"\u001b[39m\u001b[38;5;124mvalue\u001b[39m\u001b[38;5;124m\"\u001b[39m: \u001b[38;5;241m140.0\u001b[39m},\n\u001b[1;32m     24\u001b[0m     {\u001b[38;5;124m\"\u001b[39m\u001b[38;5;124msome_field\u001b[39m\u001b[38;5;124m\"\u001b[39m: \u001b[38;5;241m200.0\u001b[39m, \u001b[38;5;124m\"\u001b[39m\u001b[38;5;124mcolumn_a\u001b[39m\u001b[38;5;124m\"\u001b[39m: \u001b[38;5;241m8.0\u001b[39m, \u001b[38;5;124m\"\u001b[39m\u001b[38;5;124mcolumn_b\u001b[39m\u001b[38;5;124m\"\u001b[39m: \u001b[38;5;241m25.0\u001b[39m, \u001b[38;5;124m\"\u001b[39m\u001b[38;5;124mcategory\u001b[39m\u001b[38;5;124m\"\u001b[39m: \u001b[38;5;124m\"\u001b[39m\u001b[38;5;124mA\u001b[39m\u001b[38;5;124m\"\u001b[39m, \u001b[38;5;124m\"\u001b[39m\u001b[38;5;124mvalue\u001b[39m\u001b[38;5;124m\"\u001b[39m: \u001b[38;5;241m200.0\u001b[39m},\n\u001b[1;32m     25\u001b[0m     {\u001b[38;5;124m\"\u001b[39m\u001b[38;5;124msome_field\u001b[39m\u001b[38;5;124m\"\u001b[39m: \u001b[38;5;241m50.0\u001b[39m, \u001b[38;5;124m\"\u001b[39m\u001b[38;5;124mcolumn_a\u001b[39m\u001b[38;5;124m\"\u001b[39m: \u001b[38;5;241m4.0\u001b[39m, \u001b[38;5;124m\"\u001b[39m\u001b[38;5;124mcolumn_b\u001b[39m\u001b[38;5;124m\"\u001b[39m: \u001b[38;5;241m12.5\u001b[39m, \u001b[38;5;124m\"\u001b[39m\u001b[38;5;124mcategory\u001b[39m\u001b[38;5;124m\"\u001b[39m: \u001b[38;5;124m\"\u001b[39m\u001b[38;5;124mC\u001b[39m\u001b[38;5;124m\"\u001b[39m, \u001b[38;5;124m\"\u001b[39m\u001b[38;5;124mvalue\u001b[39m\u001b[38;5;124m\"\u001b[39m: \u001b[38;5;241m50.0\u001b[39m}\n\u001b[1;32m     26\u001b[0m ]\n",
      "File \u001b[0;32m~/book/6/my/lib/python3.8/site-packages/elasticsearch/_sync/client/utils.py:426\u001b[0m, in \u001b[0;36m_rewrite_parameters.<locals>.wrapper.<locals>.wrapped\u001b[0;34m(*args, **kwargs)\u001b[0m\n\u001b[1;32m    423\u001b[0m         \u001b[38;5;28;01mexcept\u001b[39;00m \u001b[38;5;167;01mKeyError\u001b[39;00m:\n\u001b[1;32m    424\u001b[0m             \u001b[38;5;28;01mpass\u001b[39;00m\n\u001b[0;32m--> 426\u001b[0m \u001b[38;5;28;01mreturn\u001b[39;00m \u001b[43mapi\u001b[49m\u001b[43m(\u001b[49m\u001b[38;5;241;43m*\u001b[39;49m\u001b[43margs\u001b[49m\u001b[43m,\u001b[49m\u001b[43m \u001b[49m\u001b[38;5;241;43m*\u001b[39;49m\u001b[38;5;241;43m*\u001b[39;49m\u001b[43mkwargs\u001b[49m\u001b[43m)\u001b[49m\n",
      "File \u001b[0;32m~/book/6/my/lib/python3.8/site-packages/elasticsearch/_sync/client/indices.py:509\u001b[0m, in \u001b[0;36mIndicesClient.create\u001b[0;34m(self, index, aliases, error_trace, filter_path, human, mappings, master_timeout, pretty, settings, timeout, wait_for_active_shards, body)\u001b[0m\n\u001b[1;32m    507\u001b[0m \u001b[38;5;28;01mif\u001b[39;00m __body \u001b[38;5;129;01mis\u001b[39;00m \u001b[38;5;129;01mnot\u001b[39;00m \u001b[38;5;28;01mNone\u001b[39;00m:\n\u001b[1;32m    508\u001b[0m     __headers[\u001b[38;5;124m\"\u001b[39m\u001b[38;5;124mcontent-type\u001b[39m\u001b[38;5;124m\"\u001b[39m] \u001b[38;5;241m=\u001b[39m \u001b[38;5;124m\"\u001b[39m\u001b[38;5;124mapplication/json\u001b[39m\u001b[38;5;124m\"\u001b[39m\n\u001b[0;32m--> 509\u001b[0m \u001b[38;5;28;01mreturn\u001b[39;00m \u001b[38;5;28;43mself\u001b[39;49m\u001b[38;5;241;43m.\u001b[39;49m\u001b[43mperform_request\u001b[49m\u001b[43m(\u001b[49m\u001b[43m  \u001b[49m\u001b[38;5;66;43;03m# type: ignore[return-value]\u001b[39;49;00m\n\u001b[1;32m    510\u001b[0m \u001b[43m    \u001b[49m\u001b[38;5;124;43m\"\u001b[39;49m\u001b[38;5;124;43mPUT\u001b[39;49m\u001b[38;5;124;43m\"\u001b[39;49m\u001b[43m,\u001b[49m\u001b[43m \u001b[49m\u001b[43m__path\u001b[49m\u001b[43m,\u001b[49m\u001b[43m \u001b[49m\u001b[43mparams\u001b[49m\u001b[38;5;241;43m=\u001b[39;49m\u001b[43m__query\u001b[49m\u001b[43m,\u001b[49m\u001b[43m \u001b[49m\u001b[43mheaders\u001b[49m\u001b[38;5;241;43m=\u001b[39;49m\u001b[43m__headers\u001b[49m\u001b[43m,\u001b[49m\u001b[43m \u001b[49m\u001b[43mbody\u001b[49m\u001b[38;5;241;43m=\u001b[39;49m\u001b[43m__body\u001b[49m\n\u001b[1;32m    511\u001b[0m \u001b[43m\u001b[49m\u001b[43m)\u001b[49m\n",
      "File \u001b[0;32m~/book/6/my/lib/python3.8/site-packages/elasticsearch/_sync/client/_base.py:389\u001b[0m, in \u001b[0;36mNamespacedClient.perform_request\u001b[0;34m(self, method, path, params, headers, body)\u001b[0m\n\u001b[1;32m    378\u001b[0m \u001b[38;5;28;01mdef\u001b[39;00m \u001b[38;5;21mperform_request\u001b[39m(\n\u001b[1;32m    379\u001b[0m     \u001b[38;5;28mself\u001b[39m,\n\u001b[1;32m    380\u001b[0m     method: \u001b[38;5;28mstr\u001b[39m,\n\u001b[0;32m   (...)\u001b[0m\n\u001b[1;32m    387\u001b[0m     \u001b[38;5;66;03m# Use the internal clients .perform_request() implementation\u001b[39;00m\n\u001b[1;32m    388\u001b[0m     \u001b[38;5;66;03m# so we take advantage of their transport options.\u001b[39;00m\n\u001b[0;32m--> 389\u001b[0m     \u001b[38;5;28;01mreturn\u001b[39;00m \u001b[38;5;28;43mself\u001b[39;49m\u001b[38;5;241;43m.\u001b[39;49m\u001b[43m_client\u001b[49m\u001b[38;5;241;43m.\u001b[39;49m\u001b[43mperform_request\u001b[49m\u001b[43m(\u001b[49m\n\u001b[1;32m    390\u001b[0m \u001b[43m        \u001b[49m\u001b[43mmethod\u001b[49m\u001b[43m,\u001b[49m\u001b[43m \u001b[49m\u001b[43mpath\u001b[49m\u001b[43m,\u001b[49m\u001b[43m \u001b[49m\u001b[43mparams\u001b[49m\u001b[38;5;241;43m=\u001b[39;49m\u001b[43mparams\u001b[49m\u001b[43m,\u001b[49m\u001b[43m \u001b[49m\u001b[43mheaders\u001b[49m\u001b[38;5;241;43m=\u001b[39;49m\u001b[43mheaders\u001b[49m\u001b[43m,\u001b[49m\u001b[43m \u001b[49m\u001b[43mbody\u001b[49m\u001b[38;5;241;43m=\u001b[39;49m\u001b[43mbody\u001b[49m\n\u001b[1;32m    391\u001b[0m \u001b[43m    \u001b[49m\u001b[43m)\u001b[49m\n",
      "File \u001b[0;32m~/book/6/my/lib/python3.8/site-packages/elasticsearch/_sync/client/_base.py:320\u001b[0m, in \u001b[0;36mBaseClient.perform_request\u001b[0;34m(self, method, path, params, headers, body)\u001b[0m\n\u001b[1;32m    317\u001b[0m         \u001b[38;5;28;01mexcept\u001b[39;00m (\u001b[38;5;167;01mValueError\u001b[39;00m, \u001b[38;5;167;01mKeyError\u001b[39;00m, \u001b[38;5;167;01mTypeError\u001b[39;00m):\n\u001b[1;32m    318\u001b[0m             \u001b[38;5;28;01mpass\u001b[39;00m\n\u001b[0;32m--> 320\u001b[0m     \u001b[38;5;28;01mraise\u001b[39;00m HTTP_EXCEPTIONS\u001b[38;5;241m.\u001b[39mget(meta\u001b[38;5;241m.\u001b[39mstatus, ApiError)(\n\u001b[1;32m    321\u001b[0m         message\u001b[38;5;241m=\u001b[39mmessage, meta\u001b[38;5;241m=\u001b[39mmeta, body\u001b[38;5;241m=\u001b[39mresp_body\n\u001b[1;32m    322\u001b[0m     )\n\u001b[1;32m    324\u001b[0m \u001b[38;5;66;03m# 'X-Elastic-Product: Elasticsearch' should be on every 2XX response.\u001b[39;00m\n\u001b[1;32m    325\u001b[0m \u001b[38;5;28;01mif\u001b[39;00m \u001b[38;5;129;01mnot\u001b[39;00m \u001b[38;5;28mself\u001b[39m\u001b[38;5;241m.\u001b[39m_verified_elasticsearch:\n\u001b[1;32m    326\u001b[0m     \u001b[38;5;66;03m# If the header is set we mark the server as verified.\u001b[39;00m\n",
      "\u001b[0;31mBadRequestError\u001b[0m: BadRequestError(400, 'resource_already_exists_exception', 'index [sample_eland_index/Bq7dIe3sR6OcXBrGC5Nm8A] already exists')"
     ]
    }
   ],
   "source": [
    "mapping = {\n",
    "    \"settings\": {\n",
    "        \"number_of_shards\": 1,\n",
    "        \"number_of_replicas\": 0\n",
    "    },\n",
    "    \"mappings\": {\n",
    "        \"properties\": {\n",
    "            \"some_field\": {\"type\": \"float\"},\n",
    "            \"column_a\": {\"type\": \"float\"},\n",
    "            \"column_b\": {\"type\": \"float\"},\n",
    "            \"category\": {\"type\": \"keyword\"},\n",
    "            \"value\": {\"type\": \"float\"}\n",
    "        }\n",
    "    }\n",
    "}\n",
    "\n",
    "# 인덱스 생성\n",
    "es.indices.create(index=\"sample_eland_index\", body=mapping)\n",
    "\n",
    "# 인덱스에 샘플 데이터 넣기\n",
    "documents = [\n",
    "    {\"some_field\": 95.0, \"column_a\": 5.0, \"column_b\": 10.0, \"category\": \"A\", \"value\": 50.0},\n",
    "    {\"some_field\": 150.0, \"column_a\": 7.0, \"column_b\": 20.0, \"category\": \"B\", \"value\": 140.0},\n",
    "    {\"some_field\": 200.0, \"column_a\": 8.0, \"column_b\": 25.0, \"category\": \"A\", \"value\": 200.0},\n",
    "    {\"some_field\": 50.0, \"column_a\": 4.0, \"column_b\": 12.5, \"category\": \"C\", \"value\": 50.0}\n",
    "]\n",
    "\n",
    "for doc in documents:\n",
    "    es.index(index=\"sample_eland_index\", body=doc)"
   ]
  },
  {
   "cell_type": "markdown",
   "metadata": {
    "id": "VJzKKd6opNLf"
   },
   "source": [
    "## Eland 예제"
   ]
  },
  {
   "cell_type": "code",
   "execution_count": 19,
   "metadata": {
    "id": "puzcRKXHZTeB"
   },
   "outputs": [
    {
     "data": {
      "text/html": [
       "<div>\n",
       "<style scoped>\n",
       "    .dataframe tbody tr th:only-of-type {\n",
       "        vertical-align: middle;\n",
       "    }\n",
       "\n",
       "    .dataframe tbody tr th {\n",
       "        vertical-align: top;\n",
       "    }\n",
       "\n",
       "    .dataframe thead th {\n",
       "        text-align: right;\n",
       "    }\n",
       "</style>\n",
       "<table border=\"1\" class=\"dataframe\">\n",
       "  <thead>\n",
       "    <tr style=\"text-align: right;\">\n",
       "      <th></th>\n",
       "      <th>category</th>\n",
       "      <th>column_a</th>\n",
       "      <th>column_b</th>\n",
       "      <th>some_field</th>\n",
       "      <th>value</th>\n",
       "    </tr>\n",
       "  </thead>\n",
       "  <tbody>\n",
       "    <tr>\n",
       "      <th>O2kWu44BxZblsyYrjIwY</th>\n",
       "      <td>B</td>\n",
       "      <td>7.0</td>\n",
       "      <td>20.0</td>\n",
       "      <td>150.0</td>\n",
       "      <td>140.0</td>\n",
       "    </tr>\n",
       "    <tr>\n",
       "      <th>PGkWu44BxZblsyYrjIzd</th>\n",
       "      <td>A</td>\n",
       "      <td>8.0</td>\n",
       "      <td>25.0</td>\n",
       "      <td>200.0</td>\n",
       "      <td>200.0</td>\n",
       "    </tr>\n",
       "  </tbody>\n",
       "</table>\n",
       "</div>\n",
       "<p>2 rows × 5 columns</p>"
      ],
      "text/plain": [
       "                     category  column_a  column_b  some_field  value\n",
       "O2kWu44BxZblsyYrjIwY        B       7.0      20.0       150.0  140.0\n",
       "PGkWu44BxZblsyYrjIzd        A       8.0      25.0       200.0  200.0\n",
       "\n",
       "[2 rows x 5 columns]"
      ]
     },
     "execution_count": 19,
     "metadata": {},
     "output_type": "execute_result"
    }
   ],
   "source": [
    "import eland as ed\n",
    "\n",
    "df = ed.DataFrame(es_client=es, es_index_pattern=\"sample_eland_index\")\n",
    "filtered_df = df[df['some_field'] > 100]\n",
    "filtered_df"
   ]
  },
  {
   "cell_type": "code",
   "execution_count": 20,
   "metadata": {
    "id": "kchuV7LmZ94y"
   },
   "outputs": [
    {
     "data": {
      "text/plain": [
       "123.75"
      ]
     },
     "execution_count": 20,
     "metadata": {},
     "output_type": "execute_result"
    }
   ],
   "source": [
    "average_value = df['some_field'].mean()\n",
    "average_value"
   ]
  },
  {
   "cell_type": "code",
   "execution_count": 23,
   "metadata": {
    "id": "OUt_BZrQaA1l"
   },
   "outputs": [
    {
     "data": {
      "text/plain": [
       "<Axes: xlabel='category', ylabel='value'>"
      ]
     },
     "execution_count": 23,
     "metadata": {},
     "output_type": "execute_result"
    },
    {
     "data": {
      "image/png": "[encoded data removed]",
      "text/plain": [
       "<Figure size 640x480 with 1 Axes>"
      ]
     },
     "metadata": {},
     "output_type": "display_data"
    }
   ],
   "source": [
    "import seaborn as sns\n",
    "import pandas as pd\n",
    "\n",
    "filtered_df = df[df['some_field'] > 100]\n",
    "pandas_df = filtered_df.to_pandas()\n",
    "sns.boxplot(x='category', y='value', data=pandas_df)"
   ]
  },
  {
   "cell_type": "markdown",
   "metadata": {
    "id": "9LyU11jZaK_s"
   },
   "source": [
    "# 허깅 페이스의 모델을 일래스틱서치에서 불러오기"
   ]
  },
  {
   "cell_type": "code",
   "execution_count": 24,
   "metadata": {
    "id": "ERArF6WFaNt6"
   },
   "outputs": [
    {
     "name": "stderr",
     "output_type": "stream",
     "text": [
      "huggingface/tokenizers: The current process just got forked, after parallelism has already been used. Disabling parallelism to avoid deadlocks...\n",
      "To disable this warning, you can either:\n",
      "\t- Avoid using `tokenizers` before the fork if possible\n",
      "\t- Explicitly set the environment variable TOKENIZERS_PARALLELISM=(true | false)\n"
     ]
    },
    {
     "name": "stdout",
     "output_type": "stream",
     "text": [
      "Note: you may need to restart the kernel to use updated packages.\n"
     ]
    }
   ],
   "source": [
    "pip -q install eland elasticsearch transformers sentence_transformers torch==1.13"
   ]
  },
  {
   "cell_type": "code",
   "execution_count": 26,
   "metadata": {
    "id": "WD-ajPzoaiCf"
   },
   "outputs": [],
   "source": [
    "from pathlib import Path\n",
    "from eland.ml.pytorch import PyTorchModel\n",
    "from eland.ml.pytorch.transformers import TransformerModel\n",
    "from elasticsearch import Elasticsearch\n",
    "from elasticsearch.client import MlClient\n",
    "import getpass"
   ]
  },
  {
   "cell_type": "code",
   "execution_count": 27,
   "metadata": {
    "id": "8CboLpvAatQv"
   },
   "outputs": [
    {
     "name": "stdin",
     "output_type": "stream",
     "text": [
      "Enter Elastic Cloud ID:   ········\n",
      "Enter cluster API key:   ········\n"
     ]
    }
   ],
   "source": [
    "es_cloud_id = getpass.getpass('Enter Elastic Cloud ID:  ')\n",
    "es_api_key = getpass.getpass('Enter cluster API key:  ')"
   ]
  },
  {
   "cell_type": "code",
   "execution_count": 28,
   "metadata": {
    "id": "NlNW7YKJau7O"
   },
   "outputs": [
    {
     "data": {
      "text/plain": [
       "ObjectApiResponse({'name': 'instance-0000000000', 'cluster_name': '858a51ccd3cb4f3784b2cdeeb6a8a790', 'cluster_uuid': 'j66L3Y0_Seyop9NZawv1xw', 'version': {'number': '8.12.2', 'build_flavor': 'default', 'build_type': 'docker', 'build_hash': '48a287ab9497e852de30327444b0809e55d46466', 'build_date': '2024-02-19T10:04:32.774273190Z', 'build_snapshot': False, 'lucene_version': '9.9.2', 'minimum_wire_compatibility_version': '7.17.0', 'minimum_index_compatibility_version': '7.0.0'}, 'tagline': 'You Know, for Search'})"
      ]
     },
     "execution_count": 28,
     "metadata": {},
     "output_type": "execute_result"
    }
   ],
   "source": [
    "es = Elasticsearch(cloud_id=es_cloud_id,\n",
    "                   api_key=es_api_key\n",
    "                   )\n",
    "es.info() # 클러스터 정보가 반환돼야 합니다."
   ]
  },
  {
   "cell_type": "code",
   "execution_count": 30,
   "metadata": {
    "id": "hSyXy5aJa10s"
   },
   "outputs": [
    {
     "data": {
      "application/vnd.jupyter.widget-view+json": {
       "model_id": "b23e66b538ff40b5898338a2f9a2ece6",
       "version_major": 2,
       "version_minor": 0
      },
      "text/plain": [
       "tokenizer_config.json:   0%|          | 0.00/432 [00:00<?, ?B/s]"
      ]
     },
     "metadata": {},
     "output_type": "display_data"
    },
    {
     "data": {
      "application/vnd.jupyter.widget-view+json": {
       "model_id": "21a59d43b3c54bac9066489098f5f5ae",
       "version_major": 2,
       "version_minor": 0
      },
      "text/plain": [
       "config.json:   0%|          | 0.00/629 [00:00<?, ?B/s]"
      ]
     },
     "metadata": {},
     "output_type": "display_data"
    },
    {
     "data": {
      "application/vnd.jupyter.widget-view+json": {
       "model_id": "2c5badaa4dea4fc5bec03c01f941faf1",
       "version_major": 2,
       "version_minor": 0
      },
      "text/plain": [
       "vocab.txt:   0%|          | 0.00/232k [00:00<?, ?B/s]"
      ]
     },
     "metadata": {},
     "output_type": "display_data"
    },
    {
     "data": {
      "application/vnd.jupyter.widget-view+json": {
       "model_id": "d833d27b54094676a557e1d39a826768",
       "version_major": 2,
       "version_minor": 0
      },
      "text/plain": [
       "special_tokens_map.json:   0%|          | 0.00/112 [00:00<?, ?B/s]"
      ]
     },
     "metadata": {},
     "output_type": "display_data"
    },
    {
     "data": {
      "application/vnd.jupyter.widget-view+json": {
       "model_id": "b48373a1c0a0431690baa7585f902ac8",
       "version_major": 2,
       "version_minor": 0
      },
      "text/plain": [
       "tokenizer.json:   0%|          | 0.00/466k [00:00<?, ?B/s]"
      ]
     },
     "metadata": {},
     "output_type": "display_data"
    },
    {
     "data": {
      "application/vnd.jupyter.widget-view+json": {
       "model_id": "12694b19ad3948bda0e8d1c5cd3112b0",
       "version_major": 2,
       "version_minor": 0
      },
      "text/plain": [
       "model.safetensors:   0%|          | 0.00/133M [00:00<?, ?B/s]"
      ]
     },
     "metadata": {},
     "output_type": "display_data"
    },
    {
     "data": {
      "application/vnd.jupyter.widget-view+json": {
       "model_id": "8770332454a44da193908b80b909c8c0",
       "version_major": 2,
       "version_minor": 0
      },
      "text/plain": [
       "modules.json:   0%|          | 0.00/229 [00:00<?, ?B/s]"
      ]
     },
     "metadata": {},
     "output_type": "display_data"
    },
    {
     "data": {
      "application/vnd.jupyter.widget-view+json": {
       "model_id": "ca1e8791fcba4491a014027a0164ff32",
       "version_major": 2,
       "version_minor": 0
      },
      "text/plain": [
       "config_sentence_transformers.json:   0%|          | 0.00/122 [00:00<?, ?B/s]"
      ]
     },
     "metadata": {},
     "output_type": "display_data"
    },
    {
     "data": {
      "application/vnd.jupyter.widget-view+json": {
       "model_id": "73efecb51056473e921d14fca173e173",
       "version_major": 2,
       "version_minor": 0
      },
      "text/plain": [
       "README.md:   0%|          | 0.00/3.72k [00:00<?, ?B/s]"
      ]
     },
     "metadata": {},
     "output_type": "display_data"
    },
    {
     "data": {
      "application/vnd.jupyter.widget-view+json": {
       "model_id": "d3517ce16cfe40f5b37420ec130aad4c",
       "version_major": 2,
       "version_minor": 0
      },
      "text/plain": [
       "sentence_bert_config.json:   0%|          | 0.00/53.0 [00:00<?, ?B/s]"
      ]
     },
     "metadata": {},
     "output_type": "display_data"
    },
    {
     "data": {
      "application/vnd.jupyter.widget-view+json": {
       "model_id": "0b64eafd757543f18a37f1062a8eacc2",
       "version_major": 2,
       "version_minor": 0
      },
      "text/plain": [
       "1_Pooling/config.json:   0%|          | 0.00/190 [00:00<?, ?B/s]"
      ]
     },
     "metadata": {},
     "output_type": "display_data"
    }
   ],
   "source": [
    "hf_model_id='sentence-transformers/msmarco-MiniLM-L-12-v3'\n",
    "tm = TransformerModel(model_id=hf_model_id, task_type=\"text_embedding\")"
   ]
  },
  {
   "cell_type": "code",
   "execution_count": 31,
   "metadata": {
    "id": "I4MsWWhga4CX"
   },
   "outputs": [
    {
     "data": {
      "text/plain": [
       "'sentence-transformers__msmarco-minilm-l-12-v3'"
      ]
     },
     "execution_count": 31,
     "metadata": {},
     "output_type": "execute_result"
    }
   ],
   "source": [
    "es_model_id = tm.elasticsearch_model_id()\n",
    "es_model_id"
   ]
  },
  {
   "cell_type": "code",
   "execution_count": 32,
   "metadata": {
    "id": "eKtX28bTa50r"
   },
   "outputs": [
    {
     "name": "stderr",
     "output_type": "stream",
     "text": [
      "`SentenceTransformer._target_device` has been removed, please use `SentenceTransformer.device` instead.\n",
      "`SentenceTransformer._target_device` has been removed, please use `SentenceTransformer.device` instead.\n",
      "`SentenceTransformer._target_device` has been removed, please use `SentenceTransformer.device` instead.\n",
      "`SentenceTransformer._target_device` has been removed, please use `SentenceTransformer.device` instead.\n"
     ]
    }
   ],
   "source": [
    "tmp_path = \"models\"\n",
    "Path(tmp_path).mkdir(parents=True, exist_ok=True)\n",
    "model_path, config, vocab_path = tm.save(tmp_path)"
   ]
  },
  {
   "cell_type": "code",
   "execution_count": 33,
   "metadata": {
    "id": "nI3Ppm9ea7vW"
   },
   "outputs": [
    {
     "data": {
      "application/vnd.jupyter.widget-view+json": {
       "model_id": "40a90f9ce581449e8d2d0c1b90339977",
       "version_major": 2,
       "version_minor": 0
      },
      "text/plain": [
       "  0%|          | 0/127 [00:00<?, ? parts/s]"
      ]
     },
     "metadata": {},
     "output_type": "display_data"
    }
   ],
   "source": [
    "ptm = PyTorchModel(es, es_model_id)\n",
    "ptm.import_model(model_path=model_path, config_path=None, vocab_path=vocab_path, config=config)"
   ]
  },
  {
   "cell_type": "code",
   "execution_count": 34,
   "metadata": {
    "id": "AvRE1GPwa9aZ"
   },
   "outputs": [
    {
     "data": {
      "text/plain": [
       "{'count': 1,\n",
       " 'trained_model_configs': [{'model_id': 'sentence-transformers__msmarco-minilm-l-12-v3',\n",
       "   'model_type': 'pytorch',\n",
       "   'created_by': 'api_user',\n",
       "   'version': '12.0.0',\n",
       "   'create_time': 1712536684506,\n",
       "   'model_size_bytes': 0,\n",
       "   'estimated_operations': 0,\n",
       "   'license_level': 'platinum',\n",
       "   'description': \"Model sentence-transformers/msmarco-MiniLM-L-12-v3 for task type 'text_embedding'\",\n",
       "   'tags': [],\n",
       "   'metadata': {'per_allocation_memory_bytes': 553075880,\n",
       "    'per_deployment_memory_bytes': 132856832},\n",
       "   'input': {'field_names': ['text_field']},\n",
       "   'inference_config': {'text_embedding': {'vocabulary': {'index': '.ml-inference-native-000002'},\n",
       "     'tokenization': {'bert': {'do_lower_case': True,\n",
       "       'with_special_tokens': True,\n",
       "       'max_sequence_length': 512,\n",
       "       'truncate': 'first',\n",
       "       'span': -1}}}},\n",
       "   'location': {'index': {'name': '.ml-inference-native-000002'}}}]}"
      ]
     },
     "execution_count": 34,
     "metadata": {},
     "output_type": "execute_result"
    }
   ],
   "source": [
    "# 일래스틱서치에 존재하는 모델 정보 조회\n",
    "m = MlClient.get_trained_models(es, model_id=es_model_id)\n",
    "m.body"
   ]
  },
  {
   "cell_type": "code",
   "execution_count": 37,
   "metadata": {
    "id": "_L1rccH1a-zu"
   },
   "outputs": [
    {
     "data": {
      "text/plain": [
       "{'assignment': {'task_parameters': {'model_id': 'sentence-transformers__msmarco-minilm-l-12-v3',\n",
       "   'deployment_id': 'sentence-transformers__msmarco-minilm-l-12-v3',\n",
       "   'model_bytes': 132923217,\n",
       "   'threads_per_allocation': 1,\n",
       "   'number_of_allocations': 1,\n",
       "   'queue_capacity': 1024,\n",
       "   'cache_size': '132923217b',\n",
       "   'priority': 'normal',\n",
       "   'per_deployment_memory_bytes': 132856832,\n",
       "   'per_allocation_memory_bytes': 553075880},\n",
       "  'routing_table': {'RjjENuolQaq9UUqGv3TTCA': {'current_allocations': 1,\n",
       "    'target_allocations': 1,\n",
       "    'routing_state': 'started',\n",
       "    'reason': ''}},\n",
       "  'assignment_state': 'started',\n",
       "  'start_time': '2024-04-08T00:52:38.767262118Z',\n",
       "  'max_assigned_allocations': 1}}"
      ]
     },
     "execution_count": 37,
     "metadata": {},
     "output_type": "execute_result"
    }
   ],
   "source": [
    "s = MlClient.start_trained_model_deployment(es, model_id=es_model_id)\n",
    "s.body"
   ]
  },
  {
   "cell_type": "code",
   "execution_count": 38,
   "metadata": {
    "id": "-BQB368zbAyT"
   },
   "outputs": [
    {
     "data": {
      "text/plain": [
       "{'routing_state': 'started'}"
      ]
     },
     "execution_count": 38,
     "metadata": {},
     "output_type": "execute_result"
    }
   ],
   "source": [
    "stats = MlClient.get_trained_models_stats(es, model_id=es_model_id)\n",
    "stats.body['trained_model_stats'][0]['deployment_stats']['nodes'][0]['routing_state']"
   ]
  },
  {
   "cell_type": "code",
   "execution_count": 39,
   "metadata": {
    "id": "ZELyEJvUbLOW"
   },
   "outputs": [],
   "source": [
    "docs =  [\n",
    "    {\n",
    "      \"text_field\": \"Last week I upgraded my iOS version and ever since then my phone has been overheating whenever I use your app.\"\n",
    "    }\n",
    "  ]"
   ]
  },
  {
   "cell_type": "code",
   "execution_count": 40,
   "metadata": {
    "id": "hZ8U1oHGbM4l"
   },
   "outputs": [],
   "source": [
    "z = MlClient.infer_trained_model(es, model_id=es_model_id, docs=docs)"
   ]
  },
  {
   "cell_type": "code",
   "execution_count": 41,
   "metadata": {
    "id": "5q3j1WDmbNRT"
   },
   "outputs": [
    {
     "data": {
      "text/plain": [
       "[-0.0038858423940837383,\n",
       " 0.10948625206947327,\n",
       " 0.4242308735847473,\n",
       " -0.10887448489665985,\n",
       " 0.25633731484413147,\n",
       " -0.29534661769866943,\n",
       " 0.0018347501754760742,\n",
       " -0.046699680387973785,\n",
       " 0.08677231520414352,\n",
       " -0.10970447957515717,\n",
       " -0.2750994563102722,\n",
       " 0.3343248665332794,\n",
       " 0.2643328309059143,\n",
       " -0.1977582722902298,\n",
       " 0.2636696994304657,\n",
       " 0.12308599054813385,\n",
       " -0.4506283104419708,\n",
       " 0.05021751672029495,\n",
       " -0.2036287635564804,\n",
       " 0.11058211326599121,\n",
       " -0.41230615973472595,\n",
       " -0.10743962228298187,\n",
       " -0.1440887302160263,\n",
       " 0.12179382145404816,\n",
       " -0.2939358055591583,\n",
       " 0.2675083875656128,\n",
       " 0.21124646067619324,\n",
       " 0.12771844863891602,\n",
       " -0.3403320908546448,\n",
       " 0.28256097435951233,\n",
       " -0.15237954258918762,\n",
       " 0.28149673342704773,\n",
       " 0.03042968176305294,\n",
       " 0.10954304784536362,\n",
       " -0.09875897318124771,\n",
       " -0.11424277722835541,\n",
       " -0.5897467136383057,\n",
       " -0.17613078653812408,\n",
       " -0.4065176844596863,\n",
       " -0.2366773933172226,\n",
       " -0.03501327335834503,\n",
       " 0.4736110270023346,\n",
       " 0.08498352020978928,\n",
       " 0.00856882706284523,\n",
       " 0.6042564511299133,\n",
       " 0.07740501314401627,\n",
       " 0.1968187540769577,\n",
       " -0.12994539737701416,\n",
       " 0.1355384737253189,\n",
       " -0.08792572468519211,\n",
       " 0.42249247431755066,\n",
       " 0.33109167218208313,\n",
       " 0.5288575291633606,\n",
       " -0.009850735776126385,\n",
       " 0.17635193467140198,\n",
       " 0.1648496836423874,\n",
       " 0.06355180591344833,\n",
       " 0.3946031332015991,\n",
       " 0.3390690088272095,\n",
       " -0.47221463918685913,\n",
       " -0.05329585075378418,\n",
       " -0.133496955037117,\n",
       " 0.2195458561182022,\n",
       " 0.1788889318704605,\n",
       " -0.026318632066249847,\n",
       " 0.012152259238064289,\n",
       " 0.12191244959831238,\n",
       " 0.02443964034318924,\n",
       " -0.008074600249528885,\n",
       " -0.24273493885993958,\n",
       " -0.054823700338602066,\n",
       " 0.14951738715171814,\n",
       " 0.23514820635318756,\n",
       " 0.34427130222320557,\n",
       " 0.1941092312335968,\n",
       " 0.013173919171094894,\n",
       " -0.11666916310787201,\n",
       " -0.3068784475326538,\n",
       " 0.017231596633791924,\n",
       " 0.3645133674144745,\n",
       " 0.16178320348262787,\n",
       " -0.16453038156032562,\n",
       " 0.10022996366024017,\n",
       " -0.11043793708086014,\n",
       " 0.37258005142211914,\n",
       " -0.2950695753097534,\n",
       " -0.2492927759885788,\n",
       " 0.23331475257873535,\n",
       " -0.044171951711177826,\n",
       " -0.06421881169080734,\n",
       " 0.055644433945417404,\n",
       " 0.05543982610106468,\n",
       " 0.38586437702178955,\n",
       " -0.2158699333667755,\n",
       " 0.025994952768087387,\n",
       " 0.318973183631897,\n",
       " 0.17592065036296844,\n",
       " -0.1338745653629303,\n",
       " -0.7395932674407959,\n",
       " -0.49862730503082275,\n",
       " -0.011812071315944195,\n",
       " -0.04652044549584389,\n",
       " 0.20757248997688293,\n",
       " 0.3215802311897278,\n",
       " 0.04436711221933365,\n",
       " 0.034803733229637146,\n",
       " -0.10445510596036911,\n",
       " -0.16484618186950684,\n",
       " -0.13821791112422943,\n",
       " 0.08801480382680893,\n",
       " 0.021261733025312424,\n",
       " -0.5870794057846069,\n",
       " 0.2723124921321869,\n",
       " -0.10965407639741898,\n",
       " -0.013262382708489895,\n",
       " -0.257537841796875,\n",
       " 0.21175137162208557,\n",
       " 0.1459832787513733,\n",
       " -0.20904254913330078,\n",
       " 0.14670901000499725,\n",
       " 0.07254770398139954,\n",
       " 0.05295422300696373,\n",
       " -0.17298610508441925,\n",
       " -0.07138800621032715,\n",
       " -0.0991157591342926,\n",
       " 0.17316871881484985,\n",
       " 0.0022899124305695295,\n",
       " -0.0978003442287445,\n",
       " 0.02181018330156803,\n",
       " -0.07558286935091019,\n",
       " -0.21433600783348083,\n",
       " -0.04662683233618736,\n",
       " -0.2803013026714325,\n",
       " -0.18648232519626617,\n",
       " 0.13280698657035828,\n",
       " -0.2988515794277191,\n",
       " 0.09394921362400055,\n",
       " -0.8499804139137268,\n",
       " 0.32662421464920044,\n",
       " 0.08025284856557846,\n",
       " 0.10109105706214905,\n",
       " -0.1109059527516365,\n",
       " 0.0682561844587326,\n",
       " -0.09219291806221008,\n",
       " 0.27047544717788696,\n",
       " -0.15048077702522278,\n",
       " -0.052403565496206284,\n",
       " 0.24842296540737152,\n",
       " -0.025169501081109047,\n",
       " -0.28537464141845703,\n",
       " 0.13860748708248138,\n",
       " -0.3836221694946289,\n",
       " -0.33527547121047974,\n",
       " -0.11112964898347855,\n",
       " 0.06351756304502487,\n",
       " -0.12712886929512024,\n",
       " 0.2123921513557434,\n",
       " 0.11287616193294525,\n",
       " 0.03639616817235947,\n",
       " -0.1633918434381485,\n",
       " -0.15414054691791534,\n",
       " 0.09935649484395981,\n",
       " -0.18570004403591156,\n",
       " -0.05007722228765488,\n",
       " 0.4152107536792755,\n",
       " 0.24483896791934967,\n",
       " 0.2391279637813568,\n",
       " 0.24144114553928375,\n",
       " -0.17211349308490753,\n",
       " -0.24256332218647003,\n",
       " 0.13917028903961182,\n",
       " -0.3042083978652954,\n",
       " 0.1204073429107666,\n",
       " -0.16123273968696594,\n",
       " -0.13514715433120728,\n",
       " -0.0154651440680027,\n",
       " 3.468746581347659e-05,\n",
       " -0.15896283090114594,\n",
       " -0.20871058106422424,\n",
       " 0.12014833092689514,\n",
       " -0.1484144777059555,\n",
       " -0.033573273569345474,\n",
       " -0.19122298061847687,\n",
       " 0.14028054475784302,\n",
       " -0.035187654197216034,\n",
       " -0.07117913663387299,\n",
       " 0.36002862453460693,\n",
       " 0.11459685117006302,\n",
       " 0.013323755003511906,\n",
       " 0.12381097674369812,\n",
       " -0.12305009365081787,\n",
       " -0.24220715463161469,\n",
       " 0.037950970232486725,\n",
       " -0.08628067374229431,\n",
       " -0.013102001510560513,\n",
       " 0.07439495623111725,\n",
       " -0.4406265914440155,\n",
       " 0.24323037266731262,\n",
       " 0.24261559545993805,\n",
       " -0.30449485778808594,\n",
       " 0.21230162680149078,\n",
       " 0.2867901027202606,\n",
       " 0.21851800382137299,\n",
       " 0.07999558001756668,\n",
       " -0.4702041447162628,\n",
       " -0.07393891364336014,\n",
       " -0.28623247146606445,\n",
       " 0.0013147351564839482,\n",
       " 0.24817778170108795,\n",
       " -0.025801213458180428,\n",
       " 0.42053815722465515,\n",
       " 0.09420847147703171,\n",
       " 0.1612139791250229,\n",
       " 0.10879413783550262,\n",
       " 0.0004511017177719623,\n",
       " -0.04000011458992958,\n",
       " -0.004231865517795086,\n",
       " 0.20313669741153717,\n",
       " 0.13572634756565094,\n",
       " 0.20765972137451172,\n",
       " -0.06549758464097977,\n",
       " 0.14877429604530334,\n",
       " -0.07971424609422684,\n",
       " 0.4591138958930969,\n",
       " -0.06274029612541199,\n",
       " -0.3527992069721222,\n",
       " -0.03348720446228981,\n",
       " 0.24944430589675903,\n",
       " -0.1407383531332016,\n",
       " 0.19224213063716888,\n",
       " -0.023816443979740143,\n",
       " 0.16830137372016907,\n",
       " -0.19497092068195343,\n",
       " -0.28580376505851746,\n",
       " 0.5298314690589905,\n",
       " 0.17373031377792358,\n",
       " -0.6310762166976929,\n",
       " 0.13102489709854126,\n",
       " -0.022383196279406548,\n",
       " 0.26786530017852783,\n",
       " -0.0952872782945633,\n",
       " 0.16725079715251923,\n",
       " 0.16850191354751587,\n",
       " -0.14449268579483032,\n",
       " -0.23748114705085754,\n",
       " -0.04927053675055504,\n",
       " 0.1079469844698906,\n",
       " -0.15786845982074738,\n",
       " -0.25980207324028015,\n",
       " -0.3315403163433075,\n",
       " 0.32324108481407166,\n",
       " 0.5100217461585999,\n",
       " 0.27208659052848816,\n",
       " -0.2508699297904968,\n",
       " 0.21982558071613312,\n",
       " -0.12156163156032562,\n",
       " -0.24775917828083038,\n",
       " 0.14755859971046448,\n",
       " 0.6353488564491272,\n",
       " 0.3586733937263489,\n",
       " -0.032816510647535324,\n",
       " -0.01138877309858799,\n",
       " 0.006436274386942387,\n",
       " 0.028796378523111343,\n",
       " 0.10284639894962311,\n",
       " 0.022397620603442192,\n",
       " 0.12254863232374191,\n",
       " -0.28851762413978577,\n",
       " 0.21272920072078705,\n",
       " -0.3596664071083069,\n",
       " -0.17371821403503418,\n",
       " -0.034600596874952316,\n",
       " 0.19892756640911102,\n",
       " -0.275660902261734,\n",
       " 0.45292967557907104,\n",
       " 0.05926766246557236,\n",
       " 0.11447537690401077,\n",
       " 0.19181212782859802,\n",
       " 0.07803288102149963,\n",
       " -0.1526859849691391,\n",
       " 0.5469552874565125,\n",
       " 0.19787399470806122,\n",
       " -0.0015724393306300044,\n",
       " 0.2149624526500702,\n",
       " -0.1160912811756134,\n",
       " -0.022327233105897903,\n",
       " 0.006261402741074562,\n",
       " -0.21757322549819946,\n",
       " 0.02997327782213688,\n",
       " -0.02545594796538353,\n",
       " 0.1240319162607193,\n",
       " -0.15592844784259796,\n",
       " 0.01100960560142994,\n",
       " -0.10164129734039307,\n",
       " -0.04027598351240158,\n",
       " 0.05720506235957146,\n",
       " -0.39629337191581726,\n",
       " -0.1930796205997467,\n",
       " 0.24721497297286987,\n",
       " -0.21904714405536652,\n",
       " 0.6104709506034851,\n",
       " 0.43936583399772644,\n",
       " -0.1527542620897293,\n",
       " -0.5333942770957947,\n",
       " 0.3026089668273926,\n",
       " 0.15013574063777924,\n",
       " 0.1089152842760086,\n",
       " -0.2452789843082428,\n",
       " -0.3066144287586212,\n",
       " -0.39321568608283997,\n",
       " 0.015591726638376713,\n",
       " -0.28372612595558167,\n",
       " -0.28241023421287537,\n",
       " 0.056794337928295135,\n",
       " -0.01362545695155859,\n",
       " 0.05781656876206398,\n",
       " -0.17789728939533234,\n",
       " -0.01772160641849041,\n",
       " 0.01459230575710535,\n",
       " 0.4776900112628937,\n",
       " -0.12015565484762192,\n",
       " -0.13732312619686127,\n",
       " 0.295285165309906,\n",
       " -0.008511637337505817,\n",
       " -0.26679542660713196,\n",
       " 0.07502995431423187,\n",
       " 0.25951963663101196,\n",
       " -0.19806787371635437,\n",
       " 0.20691540837287903,\n",
       " -0.8201792240142822,\n",
       " 0.08088035881519318,\n",
       " -0.10175734013319016,\n",
       " -0.006646899040788412,\n",
       " -0.009216352365911007,\n",
       " 0.17174413800239563,\n",
       " 0.33126577734947205,\n",
       " -0.22357144951820374,\n",
       " 0.3139292001724243,\n",
       " 0.12163721770048141,\n",
       " -0.21535180509090424,\n",
       " -0.4641924500465393,\n",
       " -0.09860359877347946,\n",
       " -0.1393084079027176,\n",
       " -0.30496475100517273,\n",
       " 0.332691490650177,\n",
       " 0.20184901356697083,\n",
       " -0.0849977657198906,\n",
       " 0.04347063973546028,\n",
       " 0.16038356721401215,\n",
       " -0.5746581554412842,\n",
       " -0.30611661076545715,\n",
       " -0.21717871725559235,\n",
       " -0.40884727239608765,\n",
       " 0.25307539105415344,\n",
       " 0.057949088513851166,\n",
       " 0.036572352051734924,\n",
       " 0.09387192130088806,\n",
       " -0.04686303436756134,\n",
       " 0.031457193195819855,\n",
       " -0.5094637870788574,\n",
       " -0.07814039289951324,\n",
       " -0.35738605260849,\n",
       " -0.4031437039375305,\n",
       " -0.24389776587486267,\n",
       " 0.16656912863254547,\n",
       " -0.21877352893352509,\n",
       " 0.5528305768966675,\n",
       " -0.05155462399125099,\n",
       " -0.18565593659877777,\n",
       " 0.21812765300273895,\n",
       " -0.2737678587436676,\n",
       " -0.14360307157039642,\n",
       " 0.34775015711784363,\n",
       " 0.24621745944023132,\n",
       " -0.08978484570980072,\n",
       " -0.38258999586105347,\n",
       " -0.15250153839588165,\n",
       " 0.04951221123337746,\n",
       " -0.05676388740539551,\n",
       " -0.004833760671317577,\n",
       " 0.41929593682289124,\n",
       " 0.2418997436761856,\n",
       " -0.20251287519931793,\n",
       " 0.1824602335691452]"
      ]
     },
     "execution_count": 41,
     "metadata": {},
     "output_type": "execute_result"
    }
   ],
   "source": [
    "doc_0_vector = z['inference_results'][0]['predicted_value']\n",
    "doc_0_vector"
   ]
  },
  {
   "cell_type": "markdown",
   "metadata": {
    "id": "UJT9EOxmn6pZ"
   },
   "source": [
    "# 차원 축소"
   ]
  },
  {
   "cell_type": "code",
   "execution_count": 48,
   "metadata": {
    "id": "Yh5QvWj-n9Ri"
   },
   "outputs": [],
   "source": [
    "import numpy as np\n",
    "import matplotlib.pyplot as plt\n",
    "from sklearn import datasets\n",
    "from sklearn.decomposition import PCA"
   ]
  },
  {
   "cell_type": "code",
   "execution_count": 49,
   "metadata": {
    "id": "TyYMdCXNoChF"
   },
   "outputs": [],
   "source": [
    "# Iris 데이터 세트를 적재한다.\n",
    "iris = datasets.load_iris()\n",
    "X = iris.data\n",
    "y = iris.target\n",
    "\n",
    "# 차원 축소를 위해 PCA 적용\n",
    "pca = PCA(n_components=2)\n",
    "X_reduced = pca.fit_transform(X)"
   ]
  },
  {
   "cell_type": "code",
   "execution_count": 50,
   "metadata": {
    "id": "HgQwUpBJoFIg"
   },
   "outputs": [
    {
     "data": {
      "image/png": "[encoded data removed]",
      "text/plain": [
       "<Figure size 640x480 with 1 Axes>"
      ]
     },
     "metadata": {},
     "output_type": "display_data"
    }
   ],
   "source": [
    "# 원 데이터 시각화\n",
    "plt.scatter(X[:, 0], X[:, 1], c=y, cmap=plt.cm.Set1, edgecolor='k')\n",
    "plt.xlabel('Sepal length')\n",
    "plt.ylabel('Sepal width')\n",
    "plt.title('Original Iris dataset')\n",
    "plt.show()"
   ]
  },
  {
   "cell_type": "code",
   "execution_count": 51,
   "metadata": {
    "id": "w2x7VthJoIMu"
   },
   "outputs": [
    {
     "data": {
      "image/png": "[encoded data removed]",
      "text/plain": [
       "<Figure size 640x480 with 1 Axes>"
      ]
     },
     "metadata": {},
     "output_type": "display_data"
    }
   ],
   "source": [
    "# 차원 축소된 데이터 시각화\n",
    "plt.scatter(X_reduced[:, 0], X_reduced[:, 1], c=y, cmap=plt.cm.Set1, edgecolor='k')\n",
    "plt.xlabel('First Principal Component')\n",
    "plt.ylabel('Second Principal Component')\n",
    "plt.title('Iris dataset after PCA')\n",
    "plt.show()\n"
   ]
  },
  {
   "cell_type": "markdown",
   "metadata": {
    "id": "eUluTeh2oXYX"
   },
   "source": [
    "# 양자화"
   ]
  },
  {
   "cell_type": "code",
   "execution_count": 42,
   "metadata": {
    "id": "RPY1tGMvoY7L"
   },
   "outputs": [],
   "source": [
    "import numpy as np\n",
    "from sklearn import datasets\n",
    "from sklearn.decomposition import PCA\n",
    "from sklearn.preprocessing import MinMaxScaler, QuantileTransformer"
   ]
  },
  {
   "cell_type": "code",
   "execution_count": 43,
   "metadata": {
    "id": "1zUhu904oede"
   },
   "outputs": [
    {
     "name": "stdout",
     "output_type": "stream",
     "text": [
      "Original dataset (first example):\n",
      " [ 0.  0.  5. 13.  9.  1.  0.  0.  0.  0. 13. 15. 10. 15.  5.  0.  0.  3.\n",
      " 15.  2.  0. 11.  8.  0.  0.  4. 12.  0.  0.  8.  8.  0.  0.  5.  8.  0.\n",
      "  0.  9.  8.  0.  0.  4. 11.  0.  1. 12.  7.  0.  0.  2. 14.  5. 10. 12.\n",
      "  0.  0.  0.  0.  6. 13. 10.  0.  0.  0.]\n"
     ]
    }
   ],
   "source": [
    "# 숫자 데이터 세트를 불러오기\n",
    "digits = datasets.load_digits()\n",
    "X = digits.data\n",
    "\n",
    "# 원본 데이터 세트에서 첫 번째 예시를 출력하기\n",
    "print(\"Original dataset (first example):\\n\", X[0])"
   ]
  },
  {
   "cell_type": "code",
   "execution_count": 45,
   "metadata": {
    "id": "xWSyzBeqoltn"
   },
   "outputs": [
    {
     "name": "stdout",
     "output_type": "stream",
     "text": [
      "\n",
      "Reduced dataset after PCA (first example):\n",
      " [-1.2594728  21.27488219 -9.46300008 13.01401771 -7.12808487 -7.44232024\n",
      "  3.25070448  2.55145689 -0.58565177  3.64009486]\n"
     ]
    }
   ],
   "source": [
    "# 차원 축소를 위해 PCA 적용하기\n",
    "pca = PCA(n_components=10)\n",
    "X_reduced = pca.fit_transform(X)\n",
    "\n",
    "# PCA 적용 후 첫 번째 예시를 출력하기\n",
    "print(\"\\nReduced dataset after PCA (first example):\\n\", X_reduced[0])"
   ]
  },
  {
   "cell_type": "code",
   "execution_count": 46,
   "metadata": {
    "id": "AcNn_VWqon0t"
   },
   "outputs": [
    {
     "name": "stdout",
     "output_type": "stream",
     "text": [
      "\n",
      "Scaled dataset after normalization (first example):\n",
      " [121.3164761  215.95550171  81.58060754 168.10152365  77.8680547\n",
      "  73.74058106 132.92044763 135.84179501 121.09733405 151.0819974 ]\n"
     ]
    }
   ],
   "source": [
    "# 축소된 벡터를 [0, 255] 범위로 정규화 하기\n",
    "scaler = MinMaxScaler((0, 255))\n",
    "X_scaled = scaler.fit_transform(X_reduced)\n",
    "\n",
    "# 정규화 후 첫 번째 예시를 출력하기\n",
    "print(\"\\nScaled dataset after normalization (first example):\\n\", X_scaled[0])"
   ]
  },
  {
   "cell_type": "code",
   "execution_count": 47,
   "metadata": {
    "id": "B-R0I53hoqNj"
   },
   "outputs": [
    {
     "name": "stdout",
     "output_type": "stream",
     "text": [
      "\n",
      "Quantized dataset (first example):\n",
      " [121 216  82 168  78  74 133 136 121 151]\n"
     ]
    }
   ],
   "source": [
    "# 스케일링된 벡터를 8비트 정수로 양자화 하기\n",
    "X_quantized = np.round(X_scaled).astype(np.uint8)\n",
    "\n",
    "# 양자화 후 첫 번째 예시를 출력하기\n",
    "print(\"\\nQuantized dataset (first example):\\n\", X_quantized[0])"
   ]
  }
 ],
 "metadata": {
  "colab": {
   "provenance": []
  },
  "kernelspec": {
   "display_name": "Python 3 (ipykernel)",
   "language": "python",
   "name": "python3"
  },
  "language_info": {
   "codemirror_mode": {
    "name": "ipython",
    "version": 3
   },
   "file_extension": ".py",
   "mimetype": "text/x-python",
   "name": "python",
   "nbconvert_exporter": "python",
   "pygments_lexer": "ipython3",
   "version": "3.8.10"
  }
 },
 "nbformat": 4,
 "nbformat_minor": 4
}
