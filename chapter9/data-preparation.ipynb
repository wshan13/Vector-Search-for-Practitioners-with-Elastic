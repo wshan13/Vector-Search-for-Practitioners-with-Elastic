{
  "cells": [
    {
      "cell_type": "markdown",
      "metadata": {
        "id": "kNW7qszZOsrk"
      },
      "source": [
        "## 라이브러리 의존성"
      ]
    },
    {
      "cell_type": "code",
      "execution_count": null,
      "metadata": {
        "id": "qX4nvkGbOsrm"
      },
      "outputs": [],
      "source": [
        "!pip install elasticsearch pandas\n",
        "\n",
        "from elasticsearch import Elasticsearch, helpers\n",
        "from elasticsearch.helpers import BulkIndexError\n",
        "import pandas as pd"
      ]
    },
    {
      "cell_type": "markdown",
      "metadata": {
        "id": "8inTWj_QOsrn"
      },
      "source": [
        "## 일래스틱서치 접속"
      ]
    },
    {
      "cell_type": "code",
      "execution_count": null,
      "metadata": {
        "id": "FzAkhHOYOsro"
      },
      "outputs": [],
      "source": [
        "# 일래스틱서치 클라이언트 초기화. HOST:PORT/USERNMAME/PASSWORD는 사용하는 일래스틱서치 서버의 정보로 변경 필요\n",
        "es = Elasticsearch(\n",
        "    ['HOST:PORT'],\n",
        "    basic_auth=('USERNMAME', 'PASSWORD'),\n",
        "    verify_certs=False\n",
        ")"
      ]
    },
    {
      "cell_type": "markdown",
      "metadata": {
        "id": "aWAiK1_TOsro"
      },
      "source": [
        "## 데이터 세트 파싱"
      ]
    },
    {
      "cell_type": "code",
      "execution_count": null,
      "metadata": {
        "id": "PmmONo2bOsro"
      },
      "outputs": [],
      "source": [
        "# 인덱스 정의\n",
        "index_name = 'recipes'\n",
        "\n",
        "# 매핑 정의\n",
        "mapping = {\n",
        "    \"mappings\": {\n",
        "        \"properties\": {\n",
        "            \"group\": {\"type\": \"text\"},\n",
        "            \"name\": {\"type\": \"text\"},\n",
        "            \"rating\": {\"type\": \"text\"},\n",
        "            \"n_rater\": {\"type\": \"text\"},\n",
        "            \"n_reviewer\": {\"type\": \"text\"},\n",
        "            \"summary\": {\n",
        "                \"type\": \"text\",\n",
        "                \"analyzer\": \"english\"\n",
        "            },\n",
        "            \"process\": {\"type\": \"text\"},\n",
        "            \"ingredient\": {\n",
        "                \"type\": \"text\"\n",
        "            },\n",
        "            \"ml.tokens\": {\n",
        "                \"type\": \"rank_features\"\n",
        "            }\n",
        "        }\n",
        "    }\n",
        "}\n",
        "\n",
        "# 인덱스 생성\n",
        "es.indices.create(index=index_name, body=mapping)\n",
        "\n",
        "# 판다스 라이브러리로 CSV 파일 불러오기(allrecipes.csv는 kaggle에서 다운로드 후 colab 폴더에 업로드 필요)\n",
        "with open('allrecipes.csv', 'r', encoding='utf-8', errors='ignore') as file:\n",
        "    df = pd.read_csv(file)\n",
        "\n",
        "# allrecipes.csv의 rating열의 결측값 변경\n",
        "df['rating'] = df['rating'].fillna(0)\n",
        "\n",
        "# 색인을 위해 데이터프레임을 파이썬 딕셔너리 리스트로 변환\n",
        "recipes = df.to_dict('records')\n",
        "print(f\"Number of documents: {len(recipes)}\")"
      ]
    },
    {
      "cell_type": "markdown",
      "metadata": {
        "id": "qswBVy5ZOsrp"
      },
      "source": [
        "## 대량 색인"
      ]
    },
    {
      "cell_type": "code",
      "execution_count": null,
      "metadata": {
        "id": "unyUk7RFOsrp"
      },
      "outputs": [],
      "source": [
        "# 대량 색인을 위한 JSON 문서 배열 생성(키바나에서 elser 모델 설치 및 파이프라인 생성 필요)\n",
        "bulk_index_body = []\n",
        "for index, recipe in enumerate(recipes):\n",
        "    document = {\n",
        "        \"_index\": \"recipes\",\n",
        "        \"pipeline\": \"elser-v2-recipes\",\n",
        "        \"_source\": recipe\n",
        "    }\n",
        "    bulk_index_body.append(document)\n",
        "\n",
        "# 대량 색인 및 BulkIndexError 처리\n",
        "try:\n",
        "    response = helpers.bulk(es, bulk_index_body, chunk_size=500, request_timeout=60 * 3)\n",
        "    print(\"\\nRESPONSE:\", response)\n",
        "except BulkIndexError as e:\n",
        "    for error in e.errors:\n",
        "        print(f\"Document ID: {error['index']['_id']}\")\n",
        "        print(f\"Error Type: {error['index']['error']['type']}\")\n",
        "        print(f\"Error Reason: {error['index']['error']['reason']}\")"
      ]
    }
  ],
  "metadata": {
    "language_info": {
      "name": "python"
    },
    "orig_nbformat": 4,
    "colab": {
      "provenance": []
    },
    "kernelspec": {
      "name": "python3",
      "display_name": "Python 3"
    }
  },
  "nbformat": 4,
  "nbformat_minor": 0
}