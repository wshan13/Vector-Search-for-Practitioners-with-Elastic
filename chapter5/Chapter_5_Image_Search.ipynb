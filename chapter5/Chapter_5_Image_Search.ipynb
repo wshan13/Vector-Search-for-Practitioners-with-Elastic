{
 "cells": [
  {
   "cell_type": "markdown",
   "metadata": {
    "id": "t0H_tQ34VU_I"
   },
   "source": [
    "# 이미지에 대한 벡터 표현 생성"
   ]
  },
  {
   "cell_type": "markdown",
   "metadata": {
    "id": "F8E8p2pQVPQE"
   },
   "source": [
    "## 필수 라이브러리 설치"
   ]
  },
  {
   "cell_type": "code",
   "execution_count": null,
   "metadata": {
    "id": "GmYAUfaGj7Xm"
   },
   "outputs": [],
   "source": [
    "!pip install sentence_transformers elasticsearch"
   ]
  },
  {
   "cell_type": "code",
   "execution_count": null,
   "metadata": {
    "id": "i1McWk6ziuuF"
   },
   "outputs": [],
   "source": [
    "import getpass\n",
    "import torch\n",
    "import os\n",
    "import torchvision.transforms as transforms\n",
    "import json\n",
    "from PIL import Image\n",
    "from sentence_transformers import SentenceTransformer\n",
    "from elasticsearch import Elasticsearch, helpers"
   ]
  },
  {
   "cell_type": "markdown",
   "metadata": {
    "id": "589m23IlSAkZ"
   },
   "source": [
    "## 샘플 이미지 다운로드"
   ]
  },
  {
   "cell_type": "code",
   "execution_count": null,
   "metadata": {
    "id": "A1WxCPEkqhiF"
   },
   "outputs": [],
   "source": [
    "!curl -LJO https://raw.githubusercontent.com/PacktPublishing/Vector-Search-with-Elastic/main/chapter5/images/images.tar\n",
    "!tar xvf ./images.tar"
   ]
  },
  {
   "cell_type": "code",
   "execution_count": null,
   "metadata": {
    "id": "TzQoiaW1i86l"
   },
   "outputs": [],
   "source": [
    "# 이미지를 포함하는 폴더 경로 지정 \n",
    "image_dir = './images/index'\n",
    "\n",
    "# 인덱스 명 정의\n",
    "index_name = 'images_book_demo'\n",
    "\n",
    "# 일래스틱 클라우드에 접속 \n",
    "es_cloud_id = getpass.getpass('Enter Elastic Cloud ID: ') \n",
    "es_api_id = getpass.getpass('Enter cluster API key ID: ') \n",
    "es_api_key = getpass.getpass('Enter cluster API key: ')\n",
    "\n",
    "es = Elasticsearch(cloud_id=es_cloud_id, api_key=(es_api_id, es_api_key))\n",
    "es.info() # 클러스터 정보 확인"
   ]
  },
  {
   "cell_type": "code",
   "execution_count": null,
   "metadata": {
    "id": "ZOffdKqji9a-"
   },
   "outputs": [],
   "source": [
    "# 이미지를 임베딩 할 수 있는 모델 다운로드 및 로드 \n",
    "model = SentenceTransformer('clip-ViT-B-32-multilingual-v1')\n",
    "\n",
    "# 이미지 전처리 함수 구성\n",
    "transform = transforms.Compose([\n",
    "    transforms.Resize(224),\n",
    "    transforms.CenterCrop(224),\n",
    "    lambda image: image.convert(\"RGB\"),\n",
    "    transforms.ToTensor(),\n",
    "    transforms.Normalize((0.5, 0.5, 0.5), (0.5, 0.5, 0.5)),\n",
    "])"
   ]
  },
  {
   "cell_type": "code",
   "execution_count": null,
   "metadata": {
    "id": "-Mhvf2Jujm2f"
   },
   "outputs": [],
   "source": [
    "def create_mapping_if_new(index_name, es):\n",
    "\n",
    "    # 맵핑 정의\n",
    "    mapping = {\n",
    "      \"mappings\": {\n",
    "        \"properties\": {\n",
    "          \"image_vector\": {\n",
    "            \"type\": \"dense_vector\",\n",
    "            \"dims\": 512,\n",
    "            \"index\": True,\n",
    "            \"similarity\": \"cosine\"\n",
    "          } ,\n",
    "          \"filename\": {\n",
    "            \"type\": \"keyword\"\n",
    "          }\n",
    "      }\n",
    "    }\n",
    "  }\n",
    "\n",
    "    # 동일한 이름의 인덱스가 존재하는지 체크\n",
    "    if not es.indices.exists(index=index_name):\n",
    "        # 정의된 맵핑으로 인덱스 생성 \n",
    "        es.indices.create(index=index_name, body=mapping)\n",
    "\n",
    "def embed_image(image_path):\n",
    "    # 이미지 파일 오픈 \n",
    "    with Image.open(image_path) as img:\n",
    "        # 앞서 정의한 방식으로 이미지 전처리 \n",
    "        image = transform(img).unsqueeze(0)\n",
    "\n",
    "        # 컴퓨터 환경을 체크하여 가능한 경우 GPU 활용 \n",
    "        if torch.cuda.is_available():\n",
    "            image = image.to('cuda')\n",
    "            model.to('cuda')\n",
    "\n",
    "        # 모델을 활용하여 이미지 벡터 생성\n",
    "        image_vector = model.encode(image)\n",
    "\n",
    "        # 이미지 벡터가 torch tensor 형태로 생성된 경우, CPU에서 처리 가능하도록 데이터를 변환\n",
    "        if isinstance(image_vector, torch.Tensor):\n",
    "            image_vector = image_vector.cpu().numpy()\n",
    "\n",
    "        # 리스트 형태로 변환 후,\n",
    "        image_vector = image_vector.tolist()\n",
    "\n",
    "        # 이미지 벡터 반환\n",
    "        return image_vector"
   ]
  },
  {
   "cell_type": "code",
   "execution_count": null,
   "metadata": {
    "id": "j_DIChZvjt9_"
   },
   "outputs": [],
   "source": [
    "# 동일한 인덱스가 존재하지 않는 경우, 정의된 맵핑으로 인덱스 생성 \n",
    "create_mapping_if_new(index_name, es)\n",
    "\n",
    "# 이미지 파일과 벡터를 저장할 딕셔너리 형태의 변수 선언\n",
    "data = {}\n",
    "\n",
    "# 폴더에 있는 이미지 순환 \n",
    "for image_file in os.listdir(image_dir):\n",
    "    # 이미지 벡터 생성 \n",
    "    image_vector = embed_image(os.path.join(image_dir, image_file))\n",
    "\n",
    "    # 이미지 벡터를 data 딕셔너리에 저장 \n",
    "    data[image_file] = image_vector[0]\n",
    "\n",
    "# 일래스틱서치에 이미지 벡터를 색인\n",
    "documents = []\n",
    "for filename, vector in data.items():\n",
    "\n",
    "    # 색인 대상 문서 구성\n",
    "    document = {'_index': index_name,\n",
    "                '_source': {\"filename\": filename,\n",
    "                            \"image_vector\": vector\n",
    "                    }\n",
    "          }\n",
    "\n",
    "\n",
    "    documents.append(document)\n",
    "\n",
    "#documents"
   ]
  },
  {
   "cell_type": "code",
   "execution_count": null,
   "metadata": {
    "id": "V04KgWyHpBMU"
   },
   "outputs": [],
   "source": [
    "from elasticsearch.helpers import BulkIndexError\n",
    "\n",
    "# bulk API를 통해 앞서 구성한 doc를 대량 색인\n",
    "try:\n",
    "  helpers.bulk(es, documents)\n",
    "except BulkIndexError as e:\n",
    "  for x in e.errors:\n",
    "    print(x)"
   ]
  },
  {
   "cell_type": "markdown",
   "metadata": {
    "id": "Fy-pUd8jucRy"
   },
   "source": [
    "# kNN 검색"
   ]
  },
  {
   "cell_type": "markdown",
   "metadata": {
    "id": "gsl9xgJJHyRd"
   },
   "source": [
    "검색 쿼리용 이미지 벡터화"
   ]
  },
  {
   "cell_type": "code",
   "execution_count": null,
   "metadata": {
    "id": "Fk9yL15SGp5T"
   },
   "outputs": [],
   "source": [
    "search_image = './images/search/patrice-bouchard-Yu_ejF2s_dI-unsplash.jpg'\n",
    "search_image_vector = embed_image(search_image)"
   ]
  },
  {
   "cell_type": "markdown",
   "metadata": {
    "id": "3BZKfbi7H7H6"
   },
   "source": [
    "kNN 벡터 검색 수행"
   ]
  },
  {
   "cell_type": "code",
   "execution_count": null,
   "metadata": {
    "id": "fgV6DIoCFBlM"
   },
   "outputs": [],
   "source": [
    "knn = {\n",
    "    \"field\": \"image_vector\",\n",
    "    \"query_vector\": search_image_vector[0],\n",
    "    \"k\": 1,\n",
    "    \"num_candidates\": 10\n",
    "  }\n",
    "fields = [\"filename\"]\n",
    "size = 1\n",
    "source = False"
   ]
  },
  {
   "cell_type": "code",
   "execution_count": null,
   "metadata": {
    "id": "Zl9ys10oFBlM"
   },
   "outputs": [],
   "source": [
    "results = es.search(index=index_name,\n",
    "                    knn=knn,\n",
    "                    source=source,\n",
    "                    fields=fields,\n",
    "                    size=size\n",
    "                  )"
   ]
  },
  {
   "cell_type": "code",
   "execution_count": null,
   "metadata": {
    "id": "LNG006HaWwtV"
   },
   "outputs": [],
   "source": [
    "result_filename = results['hits']['hits'][0]['fields']['filename'][0]"
   ]
  },
  {
   "cell_type": "markdown",
   "metadata": {
    "id": "wZi0WvzyXyks"
   },
   "source": "## 검색 결과 이미지 표시"
  },
  {
   "cell_type": "code",
   "execution_count": null,
   "metadata": {
    "id": "Or986-SWXEcV"
   },
   "outputs": [],
   "source": [
    "from IPython.display import Image\n",
    "Image('./images/index/'+result_filename, width=400)"
   ]
  }
 ],
 "metadata": {
  "colab": {
   "provenance": [],
   "toc_visible": true
  },
  "kernelspec": {
   "display_name": "Python 3",
   "name": "python3"
  },
  "language_info": {
   "name": "python"
  }
 },
 "nbformat": 4,
 "nbformat_minor": 0
}
