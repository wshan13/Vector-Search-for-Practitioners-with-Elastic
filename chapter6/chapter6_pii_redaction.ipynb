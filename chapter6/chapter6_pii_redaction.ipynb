{
 "cells": [
  {
   "cell_type": "code",
   "execution_count": null,
   "metadata": {
    "id": "yD06d33fOK-y"
   },
   "outputs": [],
   "source": [
    "!pip install faker"
   ]
  },
  {
   "cell_type": "markdown",
   "metadata": {
    "id": "cJtau0HASK4K"
   },
   "source": [
    "# NER 모델 설정 및 로드\n"
   ]
  },
  {
   "cell_type": "markdown",
   "metadata": {
    "id": "Ly1f1P-l9ri8"
   },
   "source": [
    "### 필요한 파이썬 패키지 설치\n"
   ]
  },
  {
   "cell_type": "markdown",
   "metadata": {
    "id": "MJAb_8zlPFhQ"
   },
   "source": [
    "일래스틱은 허깅 페이스에서 모델을 다운로드하고 일래스틱서치로 로드하기 위해 [eland 파이썬 라이브러리](https://github.com/elastic/eland)를 사용합니다."
   ]
  },
  {
   "cell_type": "code",
   "execution_count": null,
   "metadata": {
    "id": "rUedSzQW9FIF"
   },
   "outputs": [],
   "source": [
    "!pip install eland elasticsearch transformers sentence_transformers torch==1.11"
   ]
  },
  {
   "cell_type": "code",
   "execution_count": null,
   "metadata": {
    "id": "wyUZXUi4RWWL"
   },
   "outputs": [],
   "source": [
    "from pathlib import Path\n",
    "from eland.ml.pytorch import PyTorchModel\n",
    "from eland.ml.pytorch.transformers import TransformerModel\n",
    "from elasticsearch import Elasticsearch\n",
    "from elasticsearch.client import MlClient"
   ]
  },
  {
   "cell_type": "markdown",
   "metadata": {
    "id": "r7nMIbHke37Q"
   },
   "source": [
    "### 일래스틱서치 인증 설정\n",
    "[일래스틱 클라우드 ID](https://www.elastic.co/guide/en/cloud/current/ec-cloud-id.html)와 [클러스터 API 키](https://www.elastic.co/guide/en/kibana/current/api-keys.html)를 사용한 인증 접근 방식을 권장합니다.\n",
    "\n",
    "자격 증명을 하기 위한 어떠한 방법을 사용해도 상관없습니다. 아래 예제에서는 깃 저장소에 자격 증명을 저장하지 않고 보안을 유지하기 위해 getpass 모듈을 사용하여 자격 증명을 입력합니다."
   ]
  },
  {
   "cell_type": "code",
   "execution_count": null,
   "metadata": {
    "id": "Xsd2m7HoTCLm"
   },
   "outputs": [],
   "source": [
    "import getpass"
   ]
  },
  {
   "cell_type": "code",
   "execution_count": null,
   "metadata": {
    "id": "SSGgYHome69o"
   },
   "outputs": [],
   "source": [
    "es_cloud_id = getpass.getpass('Enter Elastic Cloud ID:  ')\n",
    "es_api_key = getpass.getpass('Enter cluster API key:  ')"
   ]
  },
  {
   "cell_type": "markdown",
   "metadata": {
    "id": "jL4VDnVp96lf"
   },
   "source": [
    "### 일래스틱 클라우드 접속"
   ]
  },
  {
   "cell_type": "code",
   "execution_count": null,
   "metadata": {
    "id": "I8mVJkKmetXo"
   },
   "outputs": [],
   "source": [
    "es = Elasticsearch(cloud_id=es_cloud_id,\n",
    "                   api_key=es_api_key\n",
    "                   )\n",
    "es.info() # 클러스터 정보 확인"
   ]
  },
  {
   "cell_type": "markdown",
   "metadata": {
    "id": "pOuF_1VnmVU-"
   },
   "source": [
    "## 허깅 페이스 모델 허브에서 모델을 다운로드해 일래스틱서치로 가져오기"
   ]
  },
  {
   "cell_type": "markdown",
   "metadata": {
    "id": "NwIItJyhoWeT"
   },
   "source": [
    "일래스틱 스택의 머신러닝 기능은 표준 BERT 모델 인터페이스를 준수하고 WordPiece 토큰화 알고리즘을 사용하는 변환 모델을 지원합니다.\n",
    "\n",
    "현재 지원되는 아키텍처 목록은 다음에서 볼 수 있습니다. [일래스틱 NLP 모델 지원 목록](https://www.elastic.co/guide/en/machine-learning/current/ml-nlp-model-ref.html)\n",
    "\n"
   ]
  },
  {
   "cell_type": "markdown",
   "metadata": {
    "id": "10VvWJ87alld"
   },
   "source": [
    "### HF 복사 링크를 사용하여 허깅 페이스에서 NER 모델 다운로드\n",
    "예제에서는 [sentence-transformers/msmarco-MiniLM-L-12-v3](https://huggingface.co/sentence-transformers/msmarco-MiniLM-L-12-v3) 모델을 사용할 것입니다.\n"
   ]
  },
  {
   "cell_type": "markdown",
   "metadata": {
    "id": "uBMWHj-ZmtvE"
   },
   "source": [
    "### 모델 다운로드\n",
    "여기서는 Hugging Face의 모델 ID를 지정합니다. 이 ID를 얻는 가장 쉬운 방법은 모델 페이지에서 이름 옆에 있는 모델 이름 아이콘을 클릭하여 복사하는 것입니다.\n",
    "\n",
    "`TransformerModel`을 호출할 때 HF 모델 ID와 작업 유형을 지정합니다. auto를 지정하여 eland가 모델 구성 정보에서 자동으로 유형을 결정하도록 시도할 수 있습니다. 그러나 이것이 항상 가능한 것은 아니며 특정 task_type 값의 목록은 [지원되는 task_type 코드](https://github.com/elastic/eland/blob/15a300728876022b206161d71055c67b500a0192/eland/ml/pytorch/transformers.py#*L41*)에서 볼 수 있습니다.\n",
    "\n",
    "_\"Some weights of the model checkpoint\"에 대한 경고는 무시할 수 있습니다._"
   ]
  },
  {
   "cell_type": "code",
   "execution_count": null,
   "metadata": {
    "id": "zPV3oFsKiYFL"
   },
   "outputs": [],
   "source": [
    "hf_model_id='dslim/bert-base-NER'\n",
    "tm = TransformerModel(model_id=hf_model_id, task_type=\"ner\")"
   ]
  },
  {
   "cell_type": "markdown",
   "metadata": {
    "id": "sX-9dHuDmwgX"
   },
   "source": [
    "### 모델 ID 설정 및 확인\n",
    "이름이 일래스틱서치와 호환되도록 하기 위해서 '/'는 '__'로 대체됩니다.\n",
    "\n"
   ]
  },
  {
   "cell_type": "code",
   "execution_count": null,
   "metadata": {
    "id": "XkIQBBCbdqvQ"
   },
   "outputs": [],
   "source": [
    "es_model_id = tm.elasticsearch_model_id()\n",
    "es_model_id"
   ]
  },
  {
   "cell_type": "markdown",
   "metadata": {
    "id": "p0L2cfYwbIld"
   },
   "source": [
    "## 일래스틱서치가 사용하는 TorchScrpt로 모델 내보내기"
   ]
  },
  {
   "cell_type": "code",
   "execution_count": null,
   "metadata": {
    "id": "GsSpvvP-nbCK"
   },
   "outputs": [],
   "source": [
    "tmp_path = \"models\"\n",
    "Path(tmp_path).mkdir(parents=True, exist_ok=True)\n",
    "model_path, config, vocab_path = tm.save(tmp_path)"
   ]
  },
  {
   "cell_type": "markdown",
   "metadata": {
    "id": "k1a_yNo6ba2E"
   },
   "source": [
    "## 일래스틱서치에 모델을 로드\n",
    "일래스틱서치에 모델이 없어야 합니다."
   ]
  },
  {
   "cell_type": "code",
   "execution_count": null,
   "metadata": {
    "id": "Z4QD71Apnj4j"
   },
   "outputs": [],
   "source": [
    "ptm = PyTorchModel(es, es_model_id)\n",
    "ptm.import_model(model_path=model_path, config_path=None, vocab_path=vocab_path, config=config)"
   ]
  },
  {
   "cell_type": "markdown",
   "metadata": {
    "id": "4UYSzFp3vHdB"
   },
   "source": [
    "## 모델 시작"
   ]
  },
  {
   "cell_type": "markdown",
   "metadata": {
    "id": "wQwfozwznK4Y"
   },
   "source": [
    "### 모델에 대한 정보 확인\n",
    "필수는 아니지만 모델 개요를 얻는 데 유용합니다."
   ]
  },
  {
   "cell_type": "code",
   "execution_count": null,
   "metadata": {
    "id": "b4Wv8EJvpfZI"
   },
   "outputs": [],
   "source": [
    "# 일래스틱서치에 있는 목록\n",
    "m = MlClient.get_trained_models(es, model_id=es_model_id)\n",
    "m.body"
   ]
  },
  {
   "cell_type": "markdown",
   "metadata": {
    "id": "oMGw3sk-pbaN"
   },
   "source": [
    "### 모델 배포\n",
    "ML 노드에 모델이 로드되고 NLP 작업에 사용할 수 있도록 프로세스가 시작됩니다."
   ]
  },
  {
   "cell_type": "code",
   "execution_count": null,
   "metadata": {
    "id": "w5muJ1rLqvUW"
   },
   "outputs": [],
   "source": [
    "s = MlClient.start_trained_model_deployment(es, model_id=es_model_id)\n",
    "s.body"
   ]
  },
  {
   "cell_type": "markdown",
   "metadata": {
    "id": "ZytlELrsnn_O"
   },
   "source": "### 모델이 문제없이 시작되었는지 확인"
  },
  {
   "cell_type": "code",
   "execution_count": null,
   "metadata": {
    "id": "ZaQUUWe0Hxwz"
   },
   "outputs": [],
   "source": [
    "stats = MlClient.get_trained_models_stats(es, model_id=es_model_id)\n",
    "stats.body['trained_model_stats'][0]['deployment_stats']['nodes'][0]['routing_state']"
   ]
  },
  {
   "cell_type": "markdown",
   "metadata": {
    "id": "iO7YxIbTRZ-b"
   },
   "source": [
    "# 파이프라인 생성"
   ]
  },
  {
   "cell_type": "code",
   "execution_count": null,
   "metadata": {
    "id": "DsUkWlNkNsSB"
   },
   "outputs": [],
   "source": [
    "description= \"PII redacting ingest pipeline\"\n",
    "\n",
    "processors= [\n",
    "    {\n",
    "      \"set\": {\n",
    "        \"field\": \"redacted\",\n",
    "        \"value\": \"{{{message}}}\"\n",
    "      }\n",
    "    },\n",
    "    {\n",
    "      \"inference\": {\n",
    "        \"model_id\": es_model_id,\n",
    "        \"field_map\": {\n",
    "          \"message\": \"text_field\"\n",
    "        }\n",
    "      }\n",
    "    },\n",
    "    {\n",
    "      \"script\": {\n",
    "        \"lang\": \"painless\",\n",
    "        \"source\": \"\"\"String msg = ctx['message'];\n",
    "      for (item in ctx['ml']['inference']['entities']) {\n",
    "        msg = msg.replace(item['entity'], '<' + item['class_name'] + '>')\n",
    "      }\n",
    "      ctx['redacted']=msg\"\"\",\n",
    "        \"if\": \"return ctx['ml']['inference']['entities'].isEmpty() == false\",\n",
    "        \"tag\": \"ner_redact\",\n",
    "        \"description\": \"Redact NER entities\"\n",
    "      }\n",
    "    },\n",
    "    {\n",
    "      \"redact\": {\n",
    "        \"field\": \"redacted\",\n",
    "        \"patterns\": [\n",
    "          \"%{PHONE:PHONE}\",\n",
    "          \"%{SSN:SSN}\"\n",
    "        ],\n",
    "        \"pattern_definitions\": {\n",
    "          \"SSN\": \"\"\"\\d{6}-?\\d{7}\"\"\",\n",
    "          \"PHONE\": \"\"\"\\d{3}-?\\d{3}-?\\d{4}\"\"\"\n",
    "        }\n",
    "      }\n",
    "    },\n",
    "    {\n",
    "      \"remove\": {\n",
    "        \"field\": [\n",
    "          \"message\",\n",
    "          \"ml\"\n",
    "        ]\n",
    "      }\n",
    "    }\n",
    "  ]\n",
    "\n",
    "on_failure= [\n",
    "    {\n",
    "      \"set\": {\n",
    "        \"field\": \"failure\",\n",
    "        \"value\": \"pii_script-redact\"\n",
    "      }\n",
    "    }\n",
    "  ]\n",
    "\n",
    "\n",
    "\n",
    "response = es.ingest.put_pipeline(id=\"pii_redaction_pipeline_book\",\n",
    "                                  description=description,\n",
    "                                  processors=processors,\n",
    "                                  on_failure=on_failure\n",
    ")\n",
    "\n",
    "\n",
    "# Print the response\n",
    "print(response)"
   ]
  },
  {
   "cell_type": "markdown",
   "metadata": {
    "id": "YuORHcRMTd0B"
   },
   "source": [
    "# 인덱스 템플릿 설정\n",
    "`pii_data*` 패턴으로 생성된 모든 인덱스를 찾습니다.\n",
    "필드에 대한 매핑을 작성합니다.\n",
    "새 데이터가 기본적으로 `pii_redaction_pipeline`을 사용하도록 구성합니다.\n"
   ]
  },
  {
   "cell_type": "code",
   "execution_count": null,
   "metadata": {
    "id": "dD4Q_tHxTjYi"
   },
   "outputs": [],
   "source": [
    "index_patterns =[\n",
    "    \"pii_data*\"\n",
    "  ]\n",
    "order = 1\n",
    "settings = {\n",
    "      \"number_of_shards\": 1,\n",
    "      \"number_of_replicas\": 1,\n",
    "      \"index.default_pipeline\": \"pii_redaction_pipeline_book\"\n",
    "    }\n",
    "mappings = {\n",
    "      \"properties\": {\n",
    "        \"message\": {\n",
    "          \"type\": \"text\"\n",
    "        },\n",
    "        \"status\": {\n",
    "          \"type\": \"keyword\"\n",
    "        },\n",
    "        \"redacted\": {\n",
    "          \"type\": \"text\"\n",
    "        }\n",
    "      }\n",
    "    }\n",
    "\n",
    "\n",
    "# 인덱스 템플릿 생성\n",
    "response = es.indices.put_template(name=\"pii_book_template\",\n",
    "                                   index_patterns=index_patterns,\n",
    "                                   order=order,\n",
    "                                   settings=settings,\n",
    "                                   mappings=mappings\n",
    "                                   )\n",
    "\n",
    "# 응답값 출력\n",
    "print(response)\n"
   ]
  },
  {
   "cell_type": "markdown",
   "metadata": {
    "id": "5obtia7wRSae"
   },
   "source": [
    "# 가짜 PII 데이터 생성"
   ]
  },
  {
   "cell_type": "code",
   "execution_count": null,
   "metadata": {
    "id": "99PLiMoHNo75"
   },
   "outputs": [],
   "source": [
    "from faker import Faker\n",
    "import json\n",
    "from pprint import pprint\n",
    "\n",
    "# Faker 클래스 인스턴스 생성\n",
    "fake = Faker('ko_kr')\n",
    "\n",
    "# 가짜 PII 생성 함수 정의\n",
    "def generate_fake_pii(num_records):\n",
    "\n",
    "  fake_data = []\n",
    "\n",
    "  for x in range(num_records):\n",
    "    # 가짜 PII 생성\n",
    "    fn = fake.first_name()\n",
    "    ln = fake.last_name()\n",
    "    pn = fake.phone_number()\n",
    "    sn = fake.ssn()\n",
    "    ai = fake.random_element(elements=('활성화', '비활성화'))\n",
    "\n",
    "    call_log = {\n",
    "        'message' : f'{ln}{fn}의 전화번호는 {pn} 이고 주민등록번호는 {sn} 입니다.',\n",
    "        'status' : ai\n",
    "        }\n",
    "\n",
    "    fake_data.append(call_log)\n",
    "  return fake_data\n",
    "\n",
    "# N 명의 가짜 PII 정보 생성\n",
    "num_records = 10 # 가짜 PII 정보를 생성할 숫자 설정\n",
    "fake_pii_data = generate_fake_pii(num_records)\n",
    "\n",
    "pprint(fake_pii_data)"
   ]
  },
  {
   "cell_type": "markdown",
   "metadata": {
    "id": "cQKs5Y79TPsw"
   },
   "source": [
    "# 일래스틱서치에 가짜 데이터 수집\n",
    "데이터를 pii_data 인덱스로 저장하면 pii 제거 파이프라인을 통해 저장됩니다."
   ]
  },
  {
   "cell_type": "code",
   "execution_count": null,
   "metadata": {
    "id": "paxHUfguOu88"
   },
   "outputs": [],
   "source": [
    "from elasticsearch import Elasticsearch, helpers\n",
    "\n",
    "# 대량 인덱서\n",
    "# 일래스틱서치 문서 배열을 만드는 함수 정의\n",
    "def generate_documents_array(fake_data, index_name):\n",
    "\n",
    "  # 문서를 저장할 빈 배열 만들기\n",
    "  documents = []\n",
    "\n",
    "  # 가짜 데이터 목록을 문서 형식에 맞게 변환\n",
    "  for call in fake_data:\n",
    "    # _index와 _source 키를 사용해 문서 만들기\n",
    "    document = {\n",
    "      '_index': index_name,\n",
    "      '_source': call\n",
    "    }\n",
    "\n",
    "    # 문서 배열에 문서 추가\n",
    "    documents.append(document)\n",
    "\n",
    "  return documents\n",
    "\n",
    "\n",
    "# 일래스틱서치 문서 배열 만들기\n",
    "index_name = 'pii_data-book'  # 인덱스 이름 설정\n",
    "documents_array = generate_documents_array(fake_pii_data, index_name)\n",
    "\n",
    "# 대량 색인 요청 본문을 개행 구분자를 사용해 단일 문자로 출력\n",
    "print(\"Bulk request: \")\n",
    "print(documents_array)\n",
    "\n",
    "try:\n",
    "\tresponse = helpers.bulk(es, documents_array)\n",
    "\tprint (\"\\nRESPONSE:\", response)\n",
    "except Exception as e:\n",
    "\tprint(\"\\nERROR:\", e)"
   ]
  },
  {
   "cell_type": "code",
   "execution_count": null,
   "metadata": {
    "id": "1t7EKO5xFj3_"
   },
   "outputs": [],
   "source": [
    "query = {\"match_all\":{}}\n",
    "\n",
    "response = es.search(\n",
    "    index=index_name,\n",
    "    query=query\n",
    "    )\n",
    "\n",
    "pprint(response['hits']['hits'])"
   ]
  }
 ],
 "metadata": {
  "colab": {
   "collapsed_sections": [
    "5obtia7wRSae",
    "cJtau0HASK4K",
    "iO7YxIbTRZ-b"
   ],
   "provenance": [],
   "toc_visible": true
  },
  "kernelspec": {
   "display_name": "Python 3 (ipykernel)",
   "language": "python",
   "name": "python3"
  },
  "language_info": {
   "codemirror_mode": {
    "name": "ipython",
    "version": 3
   },
   "file_extension": ".py",
   "mimetype": "text/x-python",
   "name": "python",
   "nbconvert_exporter": "python",
   "pygments_lexer": "ipython3",
   "version": "3.8.10"
  }
 },
 "nbformat": 4,
 "nbformat_minor": 4
}
