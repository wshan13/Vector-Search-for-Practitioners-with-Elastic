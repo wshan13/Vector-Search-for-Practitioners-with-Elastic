{
  "cells": [
    {
      "cell_type": "code",
      "execution_count": null,
      "metadata": {
        "id": "8ldUEgHGLeEv"
      },
      "outputs": [],
      "source": [
        "!pip install transformers\n",
        "\n",
        "from transformers import pipeline\n",
        "\n",
        "# 요약할 문장 정의\n",
        "text = \"The blue-throated macaw (Ara glaucogularis) is a species of macaw that is endemic to a small area of north-central Bolivia, known as the Llanos de Moxos. Recent population and range estimates suggest that about 350 to 400 individuals remain in the wild. Its demise was brought on by nesting competition, avian predation, and a small native range, exacerbated by indigenous hunting and capture for the pet trade. Although plentiful in captivity, it is critically endangered in the wild and protected by trading prohibitions. In 2014, the species was designated a natural patrimony of Bolivia. This blue-throated macaw in flight was photographed at Loro Parque, on the Spanish island of Tenerife in the Canary Islands.\"\n",
        "\n",
        "# 요약 파이브라인 초기화\n",
        "summarizer = pipeline(\"summarization\")\n",
        "\n",
        "# 문장에 대한 요약문 생성\n",
        "summary = summarizer(text, max_length=100, min_length=30, do_sample=False)[0][\"summary_text\"]\n",
        "\n",
        "# 요약문 출력\n",
        "print(summary)"
      ]
    }
  ],
  "metadata": {
    "language_info": {
      "name": "python"
    },
    "orig_nbformat": 4,
    "colab": {
      "provenance": []
    },
    "kernelspec": {
      "name": "python3",
      "display_name": "Python 3"
    }
  },
  "nbformat": 4,
  "nbformat_minor": 0
}