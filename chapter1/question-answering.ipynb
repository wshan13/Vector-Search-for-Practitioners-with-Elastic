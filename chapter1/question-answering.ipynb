{
  "cells": [
    {
      "cell_type": "code",
      "execution_count": null,
      "metadata": {
        "id": "xFv77o5OOmVt"
      },
      "outputs": [],
      "source": [
        "!pip install transformers\n",
        "\n",
        "from transformers import pipeline\n",
        "\n",
        "# 질의 응답(QA) 모델 로드\n",
        "model = pipeline(\"question-answering\", model=\"distilbert-base-cased-distilled-squad\", tokenizer=\"distilbert-base-cased\")\n",
        "\n",
        "# 질문 및 문맥 구성\n",
        "question = \"What is the capital city of Korea?\"\n",
        "context = \"South Korea is located in East Asia on the southern part of the Korean Peninsula, bordered by North Korea and surrounded by the Yellow Sea and the East Sea. Its capital is Seoul, and the official language is Korean.\"\n",
        "\n",
        "# 답변 구하기\n",
        "result = model(question=question, context=context)\n",
        "\n",
        "# 답변 출력\n",
        "print(f\"Answer: {result['answer']}\")"
      ]
    }
  ],
  "metadata": {
    "language_info": {
      "name": "python"
    },
    "orig_nbformat": 4,
    "colab": {
      "provenance": []
    },
    "kernelspec": {
      "name": "python3",
      "display_name": "Python 3"
    }
  },
  "nbformat": 4,
  "nbformat_minor": 0
}