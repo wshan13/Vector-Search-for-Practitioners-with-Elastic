{
  "cells": [
    {
      "cell_type": "code",
      "execution_count": null,
      "metadata": {
        "id": "N7qcJH8gHaEp"
      },
      "outputs": [],
      "source": [
        "from sklearn.datasets import fetch_20newsgroups\n",
        "from sklearn.feature_extraction.text import CountVectorizer\n",
        "from sklearn.naive_bayes import MultinomialNB\n",
        "from sklearn.metrics import accuracy_score\n",
        "\n",
        "# 데이터 셋 로드\n",
        "newsgroups_train = fetch_20newsgroups(subset='train')\n",
        "newsgroups_test = fetch_20newsgroups(subset='test')\n",
        "\n",
        "# 텍스트 데이터 벡터화\n",
        "vectorizer = CountVectorizer()\n",
        "X_train = vectorizer.fit_transform(newsgroups_train.data)\n",
        "X_test = vectorizer.transform(newsgroups_test.data)\n",
        "\n",
        "# 나이브 베이즈(Naive Bayes) 분류기 훈련\n",
        "clf = MultinomialNB()\n",
        "clf.fit(X_train, newsgroups_train.target)\n",
        "\n",
        "# 테스트 셋 예측\n",
        "y_pred = clf.predict(X_test)\n",
        "\n",
        "# 정확도와 예측한 클래스 레이블 출력\n",
        "print(f\"Accuracy: {accuracy_score(newsgroups_test.target, y_pred)}\")\n",
        "print(f\"Predicted classes: {y_pred}\")"
      ]
    }
  ],
  "metadata": {
    "language_info": {
      "name": "python"
    },
    "orig_nbformat": 4,
    "colab": {
      "provenance": []
    },
    "kernelspec": {
      "name": "python3",
      "display_name": "Python 3"
    }
  },
  "nbformat": 4,
  "nbformat_minor": 0
}